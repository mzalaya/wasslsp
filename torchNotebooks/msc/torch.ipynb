{
 "cells": [
  {
   "cell_type": "code",
   "id": "initial_id",
   "metadata": {
    "collapsed": true
   },
   "source": "import torch",
   "outputs": [],
   "execution_count": null
  },
  {
   "metadata": {},
   "cell_type": "code",
   "source": [
    "class ECDF(torch.nn.Module):\n",
    "    def __init__(self, x, side='right'):\n",
    "        super(ECDF, self).__init__()\n",
    "\n",
    "        if side.lower() not in ['right', 'left']:\n",
    "            msg = \"side can take the values 'right' or 'left'\"\n",
    "            raise ValueError(msg)\n",
    "        self.side = side\n",
    "\n",
    "        if len(x.shape) != 1:\n",
    "            msg = 'x must be 1-dimensional'\n",
    "            raise ValueError(msg)\n",
    "\n",
    "        x = x.sort()[0]\n",
    "        nobs = len(x)\n",
    "        y = torch.linspace(1./nobs, 1, nobs, device=x.device)\n",
    "\n",
    "        self.x = torch.cat((torch.tensor([-torch.inf], device=x.device), x))\n",
    "        self.y = torch.cat((torch.tensor([0], device=y.device), y))\n",
    "        self.n = self.x.shape[0]\n",
    "\n",
    "    def forward(self, time):\n",
    "        tind = torch.searchsorted(self.x, time, side=self.side) - 1\n",
    "        return self.y[tind]"
   ],
   "id": "71a025668ed1bf57",
   "outputs": [],
   "execution_count": null
  },
  {
   "metadata": {},
   "cell_type": "code",
   "source": [
    "x1 = torch.randn(5)\n",
    "x2 = torch.rand(5)"
   ],
   "id": "2630933edc04a0bd",
   "outputs": [],
   "execution_count": null
  },
  {
   "metadata": {},
   "cell_type": "code",
   "source": [
    "ecdf_fn = ECDF(x1)\n",
    "ecdf_fn"
   ],
   "id": "d6c8faeed47b443c",
   "outputs": [],
   "execution_count": null
  },
  {
   "metadata": {},
   "cell_type": "code",
   "source": "ecdf_fn(x1)",
   "id": "5c41f1f19c7c2b59",
   "outputs": [],
   "execution_count": null
  },
  {
   "metadata": {},
   "cell_type": "code",
   "source": "ecdf_fn(x2)",
   "id": "b562d0f6b6697f25",
   "outputs": [],
   "execution_count": null
  },
  {
   "metadata": {},
   "cell_type": "code",
   "source": "sample = [6.23, 5.58, 7.06, 6.42, 5.20]",
   "id": "b8ea8c78ce26cf7a",
   "outputs": [],
   "execution_count": null
  },
  {
   "metadata": {},
   "cell_type": "code",
   "source": [
    "from scipy import stats\n",
    "res = stats.ecdf(sample)\n"
   ],
   "id": "f69f25c8322555a0",
   "outputs": [],
   "execution_count": null
  },
  {
   "metadata": {},
   "cell_type": "code",
   "source": "quantiles = res.cdf.quantiles",
   "id": "e62174cb6a994fd1",
   "outputs": [],
   "execution_count": null
  },
  {
   "metadata": {},
   "cell_type": "code",
   "source": [
    "\n",
    "probabilities = res.cdf.probabilities"
   ],
   "id": "849724260bd7f9e4",
   "outputs": [],
   "execution_count": null
  },
  {
   "metadata": {},
   "cell_type": "code",
   "source": [
    "import matplotlib.pyplot as plt\n",
    "ax = plt.subplot()\n",
    "res.cdf.plot(ax)"
   ],
   "id": "55141e18dcde6101",
   "outputs": [],
   "execution_count": null
  },
  {
   "metadata": {},
   "cell_type": "code",
   "source": "plt.plot(quantiles, probabilities)",
   "id": "5254d2c04db3f4e6",
   "outputs": [],
   "execution_count": null
  },
  {
   "metadata": {},
   "cell_type": "code",
   "source": [
    "from statsmodels.distributions.empirical_distribution import (\n",
    "    StepFunction)"
   ],
   "id": "866bcc7c69cb63f0",
   "outputs": [],
   "execution_count": null
  },
  {
   "metadata": {},
   "cell_type": "code",
   "source": [
    "import numpy as np \n",
    "x = np.arange(20)\n",
    "y = np.arange(20)\n",
    "f = StepFunction(x, y)"
   ],
   "id": "3c9055c0c3afd5d7",
   "outputs": [],
   "execution_count": null
  },
  {
   "metadata": {},
   "cell_type": "code",
   "source": "f",
   "id": "531d01508810ccf",
   "outputs": [],
   "execution_count": null
  },
  {
   "metadata": {},
   "cell_type": "code",
   "source": "f2 = StepFunction(x, y, side='right')",
   "id": "47697ac5529694d6",
   "outputs": [],
   "execution_count": null
  },
  {
   "metadata": {},
   "cell_type": "code",
   "source": "f(-1.)",
   "id": "9c52a7756913132b",
   "outputs": [],
   "execution_count": null
  },
  {
   "metadata": {},
   "cell_type": "code",
   "source": "f(100)",
   "id": "b8dc7b0a41d1d187",
   "outputs": [],
   "execution_count": null
  },
  {
   "metadata": {},
   "cell_type": "code",
   "source": "from statsmodels.distributions.empirical_distribution import ECDF",
   "id": "f919cc50c237b104",
   "outputs": [],
   "execution_count": null
  },
  {
   "metadata": {},
   "cell_type": "code",
   "source": "ecdf = ECDF([3, 3, 1, 4])",
   "id": "aecd591b8eea8f3a",
   "outputs": [],
   "execution_count": null
  },
  {
   "metadata": {},
   "cell_type": "code",
   "source": "ecdf([3, 55, 0.5, 1.5])",
   "id": "dac6674a870a5d15",
   "outputs": [],
   "execution_count": null
  },
  {
   "metadata": {},
   "cell_type": "code",
   "source": [
    "class ECDFPyTorch(torch.nn.Module):\n",
    "    def __init__(self, x, weights=None, side='right'):\n",
    "        super(ECDFPyTorch, self).__init__()\n",
    "\n",
    "        if side.lower() not in ['right', 'left']:\n",
    "            msg = \"side can take the values 'right' or 'left'\"\n",
    "            raise ValueError(msg)\n",
    "        self.side = side\n",
    "\n",
    "        if len(x.shape) != 1:\n",
    "            msg = 'x must be 1-dimensional'\n",
    "            raise ValueError(msg)\n",
    "\n",
    "        \n",
    "        nobs = len(x)\n",
    "        if weights is not None:\n",
    "            assert len(weights) == nobs\n",
    "            sweights = torch.sum(weights)\n",
    "            assert sweights > 0.\n",
    "            sorted = torch.argsort(x).int()\n",
    "            x = x[sorted]\n",
    "            y = torch.cumsum(weights[sorted], dim=0)\n",
    "            y = y / sweights\n",
    "            self.x = torch.cat((torch.tensor([-torch.inf], device=x.device), x))\n",
    "            self.y = torch.cat((torch.tensor([0], device=y.device), y))\n",
    "            self.n = self.x.shape[0]        \n",
    "\n",
    "        else:\n",
    "            x = torch.sort(x)[0]\n",
    "            y = torch.linspace(1./nobs, 1, nobs, device=x.device)\n",
    "            self.x = torch.cat((torch.tensor([-torch.inf], device=x.device), x))\n",
    "            self.y = torch.cat((torch.tensor([0], device=y.device), y))\n",
    "            self.n = self.x.shape[0]\n",
    "\n",
    "    def forward(self, time):\n",
    "        tind = torch.searchsorted(self.x, time, side=self.side) - 1\n",
    "        return self.y[tind]"
   ],
   "id": "861175785ec7789e",
   "outputs": [],
   "execution_count": null
  },
  {
   "metadata": {},
   "cell_type": "code",
   "source": [
    "x = torch.tensor([3, 3, 1, 4])\n",
    "\n",
    "ewcdf = ECDFPyTorch(x)"
   ],
   "id": "b7f74f5eed0ab970",
   "outputs": [],
   "execution_count": null
  },
  {
   "metadata": {},
   "cell_type": "code",
   "source": "ewcdf",
   "id": "c5ef162bf9309cab",
   "outputs": [],
   "execution_count": null
  },
  {
   "metadata": {},
   "cell_type": "code",
   "source": "z = torch.tensor([3, 55, 0.5, 1.5])",
   "id": "af4d0cf8fd8b572e",
   "outputs": [],
   "execution_count": null
  },
  {
   "metadata": {},
   "cell_type": "code",
   "source": "ewcdf(z)",
   "id": "e561b893c03bbf29",
   "outputs": [],
   "execution_count": null
  },
  {
   "metadata": {},
   "cell_type": "code",
   "source": [
    "t = torch.tensor([1,2,2,2,3])\n",
    "ewcdf = ECDFPyTorch(t)\n",
    "print(np.vstack((ewcdf.x,ewcdf.y)))\n"
   ],
   "id": "c22b99866cbf264f",
   "outputs": [],
   "execution_count": null
  },
  {
   "metadata": {},
   "cell_type": "code",
   "source": "",
   "id": "2649f5afd6aff96b",
   "outputs": [],
   "execution_count": null
  },
  {
   "metadata": {},
   "cell_type": "code",
   "source": "",
   "id": "dd1789c94614facd",
   "outputs": [],
   "execution_count": null
  },
  {
   "metadata": {},
   "cell_type": "code",
   "source": "",
   "id": "9e4d402018ab7383",
   "outputs": [],
   "execution_count": null
  },
  {
   "metadata": {},
   "cell_type": "code",
   "source": [
    "x1 = torch.tensor([3, 1, 4])\n",
    "weights = torch.tensor([1.25, 2.5, 5])\n",
    "ewcdf = ECDFPyTorch(x1, weights=weights)"
   ],
   "id": "e04450b1d68e24a4",
   "outputs": [],
   "execution_count": null
  },
  {
   "metadata": {},
   "cell_type": "code",
   "source": [
    "\n",
    "z = torch.tensor([3, 55, 0.5, 1.5])\n",
    "ewcdf(z)"
   ],
   "id": "4857114ab4a20ce",
   "outputs": [],
   "execution_count": null
  },
  {
   "metadata": {},
   "cell_type": "code",
   "source": "ewcdf.x, ewcdf.y",
   "id": "2ec15246ce837b96",
   "outputs": [],
   "execution_count": null
  },
  {
   "metadata": {},
   "cell_type": "code",
   "source": [
    "sample1 = torch.tensor([3.5, 3.5, 1.5, 1, 4])\n",
    "sample2 = torch.tensor([3.5, 1.5, 1, 4])\n",
    "weights2 = torch.tensor([2, 1, 1, 1])\n",
    "e1 = ECDF(sample1)\n",
    "e2 = ECDF(sample2, weights=weights2)"
   ],
   "id": "9823e38f88960d66",
   "outputs": [],
   "execution_count": null
  },
  {
   "metadata": {},
   "cell_type": "markdown",
   "source": "",
   "id": "230e24fa5a5cef0c"
  },
  {
   "metadata": {},
   "cell_type": "code",
   "source": [
    "from statsmodels.distributions.empirical_distribution import (\n",
    "ECDF,\n",
    "ECDFDiscrete,\n",
    ")"
   ],
   "id": "9a01d123b25cc4f8",
   "outputs": [],
   "execution_count": null
  },
  {
   "metadata": {},
   "cell_type": "code",
   "source": [
    "xnumpy = np.array([-3, 4, -3, 60., 2, 3, 2])\n",
    "xtensor = torch.tensor(xnumpy)\n",
    "# weightsnumpy = np.array([1, 2, 0, 0, 5, 1, 3]) # n_samples = 12\n",
    "weightsnumpy = [1, 2, 0, 0, 5, 1, 3]\n",
    "weightstensor = torch.tensor(weightsnumpy)\n",
    "\n",
    "znumpy = np.array([-10, 5, 1.5])\n",
    "ztensor = torch.tensor(znumpy)"
   ],
   "id": "e9de464e2995fe92",
   "outputs": [],
   "execution_count": null
  },
  {
   "metadata": {},
   "cell_type": "code",
   "source": [
    "ecdf_stats = ECDF(xnumpy)\n",
    "ecdf_torch = ECDFPyTorch(xtensor)"
   ],
   "id": "5db6113abd4d305b",
   "outputs": [],
   "execution_count": null
  },
  {
   "metadata": {},
   "cell_type": "code",
   "source": "ecdf_stats(znumpy)",
   "id": "d572daa74a0f7c35",
   "outputs": [],
   "execution_count": null
  },
  {
   "metadata": {},
   "cell_type": "code",
   "source": "ecdf_torch(ztensor)",
   "id": "3336e4ab38eb81d",
   "outputs": [],
   "execution_count": null
  },
  {
   "metadata": {},
   "cell_type": "code",
   "source": [
    "# weighted_ecdf_stats = ECDF(xnumpy, weightsnumpy)\n",
    "weighted_ecdf_torch = ECDFPyTorch(xtensor, weightstensor)"
   ],
   "id": "dd6ae97b7e522e30",
   "outputs": [],
   "execution_count": null
  },
  {
   "metadata": {},
   "cell_type": "code",
   "source": "weighted_ecdf_torch(ztensor)",
   "id": "41ed18f3ce2986a9",
   "outputs": [],
   "execution_count": null
  },
  {
   "metadata": {},
   "cell_type": "code",
   "source": "weighted_ecdf_stats = ECDF(xnumpy, weightsnumpy)",
   "id": "1c198c81daf2519b",
   "outputs": [],
   "execution_count": null
  },
  {
   "metadata": {},
   "cell_type": "code",
   "source": "a = torch.tensor([ 0.0785,  1.5267, -0.8521,  0.4065])",
   "id": "7ad9bb99c7dc7ce",
   "outputs": [],
   "execution_count": null
  },
  {
   "metadata": {},
   "cell_type": "code",
   "source": [
    "# sorted = 2, 0, 3, 1,\n",
    "\n",
    "torch.argsort(a).int()"
   ],
   "id": "f85aa8a6f1ae0b84",
   "outputs": [],
   "execution_count": null
  },
  {
   "metadata": {},
   "cell_type": "code",
   "source": [
    "b = a[torch.argsort(a).int()]\n",
    "b"
   ],
   "id": "8ed81af2acd983dd",
   "outputs": [],
   "execution_count": null
  },
  {
   "metadata": {},
   "cell_type": "code",
   "source": "(2 * torch.tensor(3)).size()",
   "id": "675f0a4fe806ca40",
   "outputs": [],
   "execution_count": null
  },
  {
   "metadata": {
    "ExecuteTime": {
     "end_time": "2024-10-26T13:47:06.885036Z",
     "start_time": "2024-10-26T13:47:06.882900Z"
    }
   },
   "cell_type": "code",
   "source": [
    "import torch\n",
    "a = torch.normal(mean=0., std=1., size=(3,))"
   ],
   "id": "fb814e948fd69695",
   "outputs": [],
   "execution_count": 4
  },
  {
   "metadata": {
    "ExecuteTime": {
     "end_time": "2024-10-26T13:47:09.904151Z",
     "start_time": "2024-10-26T13:47:09.900050Z"
    }
   },
   "cell_type": "code",
   "source": "a",
   "id": "3ee8a46b91c8664c",
   "outputs": [
    {
     "data": {
      "text/plain": [
       "tensor([0.9082, 0.7408, 1.9725])"
      ]
     },
     "execution_count": 5,
     "metadata": {},
     "output_type": "execute_result"
    }
   ],
   "execution_count": 5
  },
  {
   "metadata": {
    "ExecuteTime": {
     "end_time": "2024-10-26T13:47:26.325644Z",
     "start_time": "2024-10-26T13:47:26.323472Z"
    }
   },
   "cell_type": "code",
   "source": "len(a)",
   "id": "ba3610e4c2a91a05",
   "outputs": [
    {
     "data": {
      "text/plain": [
       "3"
      ]
     },
     "execution_count": 8,
     "metadata": {},
     "output_type": "execute_result"
    }
   ],
   "execution_count": 8
  },
  {
   "metadata": {
    "ExecuteTime": {
     "end_time": "2024-10-26T13:47:47.849202Z",
     "start_time": "2024-10-26T13:47:47.841786Z"
    }
   },
   "cell_type": "code",
   "source": "a.Size()",
   "id": "2eebc94ac4e8ad17",
   "outputs": [
    {
     "ename": "AttributeError",
     "evalue": "'Tensor' object has no attribute 'Size'",
     "output_type": "error",
     "traceback": [
      "\u001B[0;31m---------------------------------------------------------------------------\u001B[0m",
      "\u001B[0;31mAttributeError\u001B[0m                            Traceback (most recent call last)",
      "Cell \u001B[0;32mIn[10], line 1\u001B[0m\n\u001B[0;32m----> 1\u001B[0m a\u001B[38;5;241m.\u001B[39mSize()\n",
      "\u001B[0;31mAttributeError\u001B[0m: 'Tensor' object has no attribute 'Size'"
     ]
    }
   ],
   "execution_count": 10
  },
  {
   "metadata": {
    "ExecuteTime": {
     "end_time": "2024-10-26T13:50:56.410697Z",
     "start_time": "2024-10-26T13:50:56.409045Z"
    }
   },
   "cell_type": "code",
   "source": "print(a.size())",
   "id": "40b6f108ae4db22f",
   "outputs": [
    {
     "name": "stdout",
     "output_type": "stream",
     "text": [
      "torch.Size([3])\n"
     ]
    }
   ],
   "execution_count": 13
  },
  {
   "metadata": {
    "ExecuteTime": {
     "end_time": "2024-10-26T13:50:47.484657Z",
     "start_time": "2024-10-26T13:50:47.482503Z"
    }
   },
   "cell_type": "code",
   "source": "print(type(a))",
   "id": "c181eb26073798fb",
   "outputs": [
    {
     "name": "stdout",
     "output_type": "stream",
     "text": [
      "<class 'torch.Tensor'>\n"
     ]
    }
   ],
   "execution_count": 12
  },
  {
   "metadata": {
    "ExecuteTime": {
     "end_time": "2024-10-26T15:27:03.333142Z",
     "start_time": "2024-10-26T15:27:03.326969Z"
    }
   },
   "cell_type": "code",
   "source": [
    "import torch\n",
    "\n",
    "def main():\n",
    "\n",
    "    x = [[[[0, 0, 0, 0],\n",
    "           [0, 1, 1, 0],\n",
    "           [0, 1, 1, 0],\n",
    "           [0, 0, 0, 0]],\n",
    "\n",
    "         [[1, 0, 0, 1],\n",
    "          [0, 0, 0, 0],\n",
    "          [0, 0, 0, 0],\n",
    "          [1, 0, 0, 1]]]]\n",
    "\n",
    "    x = torch.tensor(x).float()\n",
    "\n",
    "    m = [[[[10, 11, 12, 13],\n",
    "           [14, 15, 16, 17],\n",
    "           [18, 19, 20, 21],\n",
    "           [22, 23, 24, 25]],\n",
    "\n",
    "          [[26, 27, 28, 29],\n",
    "           [30, 31, 32, 33],\n",
    "           [34, 35, 36, 37],\n",
    "           [38, 39, 40, 41]]]]\n",
    "\n",
    "    m = torch.tensor(m).float()\n",
    "\n",
    "    y, idx = torch.nn.functional.max_pool2d_with_indices(x, kernel_size=(2, 2))\n",
    "\n",
    "    m_select = torch.take(m, idx)\n",
    "    print(m_select)\n",
    "\n",
    "\n",
    "if __name__ == \"__main__\":\n",
    "    main()"
   ],
   "id": "6689a68799051fbb",
   "outputs": [
    {
     "name": "stdout",
     "output_type": "stream",
     "text": [
      "tensor([[[[15., 16.],\n",
      "          [19., 20.]],\n",
      "\n",
      "         [[10., 13.],\n",
      "          [22., 25.]]]])\n"
     ]
    }
   ],
   "execution_count": 14
  },
  {
   "metadata": {
    "ExecuteTime": {
     "end_time": "2024-10-26T15:28:25.866119Z",
     "start_time": "2024-10-26T15:28:25.862439Z"
    }
   },
   "cell_type": "code",
   "source": [
    "x = [[[[0, 0, 0, 0],\n",
    "           [0, 1, 1, 0],\n",
    "           [0, 1, 1, 0],\n",
    "           [0, 0, 0, 0]],\n",
    "\n",
    "         [[1, 0, 0, 1],\n",
    "          [0, 0, 0, 0],\n",
    "          [0, 0, 0, 0],\n",
    "          [1, 0, 0, 1]]]]\n",
    "\n",
    "x = torch.tensor(x).float()\n",
    "\n",
    "m = [[[[10, 11, 12, 13],\n",
    "           [14, 15, 16, 17],\n",
    "           [18, 19, 20, 21],\n",
    "           [22, 23, 24, 25]],\n",
    "\n",
    "          [[26, 27, 28, 29],\n",
    "           [30, 31, 32, 33],\n",
    "           [34, 35, 36, 37],\n",
    "           [38, 39, 40, 41]]]]"
   ],
   "id": "2a04a20b4540d266",
   "outputs": [],
   "execution_count": 15
  },
  {
   "metadata": {
    "ExecuteTime": {
     "end_time": "2024-10-26T15:28:26.341775Z",
     "start_time": "2024-10-26T15:28:26.339497Z"
    }
   },
   "cell_type": "code",
   "source": [
    "m = torch.tensor(m).float()\n",
    "\n",
    "y, idx = torch.nn.functional.max_pool2d_with_indices(x, kernel_size=(2, 2))"
   ],
   "id": "5e6a9114da3c8f04",
   "outputs": [],
   "execution_count": 16
  },
  {
   "metadata": {
    "ExecuteTime": {
     "end_time": "2024-10-26T15:28:26.890488Z",
     "start_time": "2024-10-26T15:28:26.887049Z"
    }
   },
   "cell_type": "code",
   "source": [
    "out = torch.gather(torch.flatten(m, 2), 2, torch.flatten(idx, 2)).view(idx.size())\n",
    "print(out)\n"
   ],
   "id": "958576841c5ca56e",
   "outputs": [
    {
     "name": "stdout",
     "output_type": "stream",
     "text": [
      "tensor([[[[15., 16.],\n",
      "          [19., 20.]],\n",
      "\n",
      "         [[26., 29.],\n",
      "          [38., 41.]]]])\n"
     ]
    }
   ],
   "execution_count": 17
  },
  {
   "metadata": {
    "ExecuteTime": {
     "end_time": "2024-10-26T15:38:24.928116Z",
     "start_time": "2024-10-26T15:38:24.922535Z"
    }
   },
   "cell_type": "code",
   "source": [
    "poly_batched = torch.tensor([[1, 2, 3, 4], [1, 2, 3, 4]])\n",
    "\n",
    "def polycompanion(polynomial):\n",
    "    deg = polynomial.shape[-1] - 2\n",
    "    companion = torch.zeros((deg+1, deg+1))\n",
    "    companion[1:,:-1] = torch.eye(deg)\n",
    "    _companion = torch.concatenate([companion[:, :-1].clone(), (-1. * polynomial[:-1] / polynomial[-1])[:, None]], dim=1)\n",
    "    return _companion\n",
    "\n",
    "polycompanion_vmap = torch.vmap(polycompanion)\n",
    "print(polycompanion_vmap(poly_batched))"
   ],
   "id": "29856108ee93c4a6",
   "outputs": [
    {
     "name": "stdout",
     "output_type": "stream",
     "text": [
      "tensor([[[ 0.0000,  0.0000, -0.2500],\n",
      "         [ 1.0000,  0.0000, -0.5000],\n",
      "         [ 0.0000,  1.0000, -0.7500]],\n",
      "\n",
      "        [[ 0.0000,  0.0000, -0.2500],\n",
      "         [ 1.0000,  0.0000, -0.5000],\n",
      "         [ 0.0000,  1.0000, -0.7500]]])\n"
     ]
    }
   ],
   "execution_count": 18
  },
  {
   "metadata": {
    "ExecuteTime": {
     "end_time": "2024-10-27T14:59:12.042712Z",
     "start_time": "2024-10-27T14:59:11.371781Z"
    }
   },
   "cell_type": "code",
   "source": "import torch",
   "id": "599187547d2fbd51",
   "outputs": [],
   "execution_count": 1
  },
  {
   "metadata": {
    "ExecuteTime": {
     "end_time": "2024-10-27T15:09:48.996282Z",
     "start_time": "2024-10-27T15:09:48.994137Z"
    }
   },
   "cell_type": "code",
   "source": "cauchy = torch.distributions.cauchy.Cauchy(loc=0., scale=1.) #, size=(3,))",
   "id": "895590308a33133f",
   "outputs": [],
   "execution_count": 5
  },
  {
   "metadata": {
    "ExecuteTime": {
     "end_time": "2024-10-27T15:10:19.924612Z",
     "start_time": "2024-10-27T15:10:19.920426Z"
    }
   },
   "cell_type": "code",
   "source": "cauchy.sample(sample_shape=(10,))",
   "id": "d2748580a631856f",
   "outputs": [
    {
     "data": {
      "text/plain": [
       "tensor([ 22.1724,   0.6150,  -0.7642,   0.7647,  -5.4848,   0.5860,   0.5142,\n",
       "          1.3560, -13.3956,   9.0942])"
      ]
     },
     "execution_count": 6,
     "metadata": {},
     "output_type": "execute_result"
    }
   ],
   "execution_count": 6
  },
  {
   "metadata": {},
   "cell_type": "markdown",
   "source": "# Test",
   "id": "df1168111a160f36"
  },
  {
   "metadata": {
    "ExecuteTime": {
     "end_time": "2024-10-28T08:05:55.939273Z",
     "start_time": "2024-10-28T08:05:55.935219Z"
    }
   },
   "cell_type": "code",
   "source": [
    "import math \n",
    "import torch\n",
    "def uniform(z):\n",
    "    z = torch.tensor(z).to(device)\n",
    "    if torch.abs(z) <= 1.:\n",
    "        return 1.\n",
    "    else:\n",
    "        return 0.\n",
    "\n",
    "def silverman(z):\n",
    "    # z = torch.tensor(z).to(device)\n",
    "    return 1/2 * torch.exp(-torch.abs(z) / math.sqrt(2)) * torch.sin(torch.abs(z) / math.sqrt(2) + torch.pi / 4)\n",
    "\n",
    "def silverman_space_kernel(x, Xt, bandwidth):\n",
    "    \"\"\"\n",
    "    Space kernel\n",
    "    :param kernel: function\n",
    "    :param x: single point in R^d\n",
    "    :param Xt: single data point in R^d at time t\n",
    "    :param bandwidth: float\n",
    "    :return:\n",
    "    \"\"\"\n",
    "    x_Xt_scaled = (x - Xt) / bandwidth\n",
    "    vectorize_kernel = torch.func.vmap(silverman)\n",
    "    kernel_vec_val = vectorize_kernel(x_Xt_scaled)\n",
    "\n",
    "    return torch.prod(kernel_vec_val)\n",
    "\n",
    "def uniform_time_kernel(aT, tT, bandwidth):\n",
    "    \"\"\"\n",
    "    Time kernel\n",
    "    :param kernel:\n",
    "    :param aT:\n",
    "    :param tT:\n",
    "    :param bandwidth:\n",
    "    :return:\n",
    "    \"\"\"\n",
    "    atT_scaled = (tT - aT) / bandwidth\n",
    "    return uniform(atT_scaled)"
   ],
   "id": "242eb8d19574c605",
   "outputs": [],
   "execution_count": 10
  },
  {
   "metadata": {
    "ExecuteTime": {
     "end_time": "2024-10-28T08:08:06.227077Z",
     "start_time": "2024-10-28T08:07:54.828318Z"
    }
   },
   "cell_type": "code",
   "source": [
    "\n",
    "device = torch.device('mps')\n",
    "T = 10000\n",
    "t = 5\n",
    "tT = t / T \n",
    "bandwidth = 0.5\n",
    "\n",
    "X =  torch.normal(mean=0., std=1., size=(T,2)).to(device)\n",
    "\n",
    "numerator = torch.empty(T, dtype=torch.float).to(device)\n",
    "denominator = torch.empty(T, dtype=torch.float).to(device)\n",
    "\n",
    "x = X[t]\n",
    "\n",
    "for a in range(T):\n",
    "    Xa = X[a]\n",
    "    aT = a / T\n",
    "    \n",
    "    space_val =  silverman_space_kernel(x, Xa, bandwidth)\n",
    "    time_val = uniform_time_kernel(aT, tT, bandwidth)\n",
    "\n",
    "    numerator[a] = space_val * time_val\n",
    "    denominator[a] = time_val * space_val\n",
    "\n",
    "weights_t = numerator / denominator.sum()\n",
    "\n",
    "def _weights(x, T, bandwidth):\n",
    "    numerator = torch.empty(T, dtype=torch.float).to(device)\n",
    "    denominator = torch.empty(T, dtype=torch.float).to(device)\n",
    "    \n",
    "    space_val =  silverman_space_kernel(x, Xa, bandwidth)\n",
    "    time_val = uniform_time_kernel(aT, tT, bandwidth)\n",
    "    \n",
    "    vals_ num = [silverman_space_kernel(x, X[a], bandwidth) for a in range(T)]\n",
    "    vals_denom = [silverman_space_kernel(x, X[a], bandwidth) for a in range(T)]\n",
    "    \n"
   ],
   "id": "f3d2e2e6c85ceb43",
   "outputs": [],
   "execution_count": 16
  },
  {
   "metadata": {
    "ExecuteTime": {
     "end_time": "2024-10-28T08:08:11.928424Z",
     "start_time": "2024-10-28T08:08:11.163076Z"
    }
   },
   "cell_type": "code",
   "source": [
    "device = torch.device('cpu')\n",
    "T = 10000\n",
    "t = 5\n",
    "tT = t / T \n",
    "bandwidth = 0.5\n",
    "\n",
    "X =  torch.normal(mean=0., std=1., size=(T,2)).to(device)\n",
    "\n",
    "numerator = torch.empty(T, dtype=torch.float).to(device)\n",
    "denominator = torch.empty(T, dtype=torch.float).to(device)\n",
    "\n",
    "x = X[t]\n",
    "\n",
    "for a in range(T):\n",
    "    Xa = X[a]\n",
    "    aT = a / T\n",
    "    \n",
    "    space_val =  silverman_space_kernel(x, Xa, bandwidth)\n",
    "    time_val = uniform_time_kernel(aT, tT, bandwidth)\n",
    "\n",
    "    numerator[a] = space_val * time_val\n",
    "    denominator[a] = time_val * space_val\n",
    "\n",
    "weights_t = numerator / denominator.sum()"
   ],
   "id": "caba6a74ce4a842",
   "outputs": [],
   "execution_count": 17
  },
  {
   "metadata": {
    "ExecuteTime": {
     "end_time": "2024-10-28T18:31:07.981900Z",
     "start_time": "2024-10-28T18:31:07.979789Z"
    }
   },
   "cell_type": "code",
   "source": [
    "vals_a = [a**2 for a in range(10)]\n",
    "vals_b = [a**3 for a in range(10)]"
   ],
   "id": "e419d9fd00c8e08c",
   "outputs": [],
   "execution_count": 20
  },
  {
   "metadata": {
    "ExecuteTime": {
     "end_time": "2024-10-28T18:31:44.251040Z",
     "start_time": "2024-10-28T18:31:44.248402Z"
    }
   },
   "cell_type": "code",
   "source": "torch.tensor(vals_a) * torch.tensor(vals_b)",
   "id": "8d5882e94004a07e",
   "outputs": [
    {
     "data": {
      "text/plain": [
       "tensor([    0,     1,    32,   243,  1024,  3125,  7776, 16807, 32768, 59049])"
      ]
     },
     "execution_count": 24,
     "metadata": {},
     "output_type": "execute_result"
    }
   ],
   "execution_count": 24
  },
  {
   "metadata": {},
   "cell_type": "code",
   "outputs": [],
   "execution_count": null,
   "source": "",
   "id": "4b751e3a09356e40"
  }
 ],
 "metadata": {
  "kernelspec": {
   "display_name": "Python 3",
   "language": "python",
   "name": "python3"
  },
  "language_info": {
   "codemirror_mode": {
    "name": "ipython",
    "version": 2
   },
   "file_extension": ".py",
   "mimetype": "text/x-python",
   "name": "python",
   "nbconvert_exporter": "python",
   "pygments_lexer": "ipython2",
   "version": "2.7.6"
  }
 },
 "nbformat": 4,
 "nbformat_minor": 5
}
