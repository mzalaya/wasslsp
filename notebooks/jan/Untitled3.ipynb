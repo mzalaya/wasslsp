{
 "cells": [
  {
   "cell_type": "code",
   "execution_count": 103,
   "id": "f1480948",
   "metadata": {},
   "outputs": [
    {
     "name": "stdout",
     "output_type": "stream",
     "text": [
      "1.0 0.8999999999999999\n",
      "12.005620853490742 3.110167081601453\n",
      "1.0\n"
     ]
    }
   ],
   "source": [
    "import numpy as np\n",
    "import math\n",
    "import matplotlib.pyplot as plt\n",
    "from scipy.stats import wasserstein_distance\n",
    "\n",
    "# Defining the weight function\n",
    "def omega(t, x, c1, c2):\n",
    "    sigma = math.sqrt(np.var(X))\n",
    "    h1 = (c1/math.sqrt(12))*(T ** (-(1/5)))\n",
    "    h2 = c2*sigma*(T ** (-(1/5)))\n",
    "    numerator = K_h1(t/T - t / T, h1) * np.prod(K_h2(x - X[t-1], h2))\n",
    "    denominator = np.sum([K_h1(s/T - s / T, h1) * np.prod(K_h2(x - X[s-1], h2)) for s in range(1, T+1)])\n",
    "    return numerator / denominator\n",
    "\n",
    "# Defining the empirical conditional distribution function estimator\n",
    "def ecdf(x, v):\n",
    "    weights = np.array([omega(t, x, c1, c2) for t in range(1, T+1)])\n",
    "    indicator = (Y <= v).astype(int)\n",
    "    return np.sum(weights * indicator)\n",
    "\n",
    "# Define uniform kernels for K1\n",
    "def K_h1(z, h1):\n",
    "    return 0.5 if abs(z/h1) <= 1 else 0\n",
    "\n",
    "# Define Gaussian kernels for K2\n",
    "def K_h2(z, h2):\n",
    "    return np.exp(-z**2 / (2 * h2**2))\n",
    "\n",
    "# Generate locally stationary data\n",
    "np.random.seed(42)\n",
    "# Define the time-varying parameter\n",
    "def time_varying_param(t):\n",
    "    phi = 0.2 + 0.3 * np.sin(0.1 * t/T)\n",
    "    return phi\n",
    "\n",
    "# Simulate the time-varying AR(1) model\n",
    "def simulate_tv_ar(T, param_func):\n",
    "    epsilon = np.random.normal(0, 1, T)\n",
    "    y = np.zeros(T)\n",
    "    \n",
    "    for t in range(1, T):\n",
    "        phi = param_func(t)\n",
    "        y[t] = phi * y[t-1] + epsilon[t]\n",
    "    \n",
    "    return y\n",
    "\n",
    "#####################################################################################################\n",
    "#Example\n",
    "\n",
    "# Parameters\n",
    "T = 500  # Length of time series\n",
    "d = 1  # Number of covariates\n",
    "\n",
    "# Generate locally stationary data of length T\n",
    "\n",
    "Y = simulate_tv_ar(T, time_varying_param)\n",
    "X = np.array([Y[t-2] for t in range(1, T+1)])\n",
    "\n",
    "c1 = (1*math.sqrt(12)) / (T ** (-(1/5)))\n",
    "c2 = (0.9) / (math.sqrt(np.var(X))*(T ** (-(1/5))))\n",
    "h1 = (c1/math.sqrt(12))*(T ** (-(1/5)))\n",
    "h2 = c2*math.sqrt(np.var(Y))*(T ** (-(1/5)))\n",
    "print(h1,h2)\n",
    "print(c1, c2)\n",
    "\n",
    "# Test the weight function for a given (u, x)\n",
    "x_test = np.array([0.5])\n",
    "\n",
    "#weights = [omega(t, u_test, x_test, c1, c2) for t in range(1, T+1)]\n",
    "\n",
    "#Values for plotting\n",
    "v_values = np.linspace(Y.min(), Y.max(), T)\n",
    "F=ecdf(x_test, Y.max())\n",
    "print(F)"
   ]
  },
  {
   "cell_type": "code",
   "execution_count": null,
   "id": "ee90f869",
   "metadata": {},
   "outputs": [],
   "source": []
  }
 ],
 "metadata": {
  "kernelspec": {
   "display_name": "Python 3 (ipykernel)",
   "language": "python",
   "name": "python3"
  },
  "language_info": {
   "codemirror_mode": {
    "name": "ipython",
    "version": 3
   },
   "file_extension": ".py",
   "mimetype": "text/x-python",
   "name": "python",
   "nbconvert_exporter": "python",
   "pygments_lexer": "ipython3",
   "version": "3.9.13"
  }
 },
 "nbformat": 4,
 "nbformat_minor": 5
}
