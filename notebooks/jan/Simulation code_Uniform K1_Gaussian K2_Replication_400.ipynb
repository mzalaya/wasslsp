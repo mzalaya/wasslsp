{
 "cells": [
  {
   "cell_type": "code",
   "execution_count": 1,
   "id": "5df6a8b9",
   "metadata": {},
   "outputs": [
    {
     "name": "stdout",
     "output_type": "stream",
     "text": [
      "1-Wasserstein Distance:  [0.21108458211379288, 0.20039327564444998, 0.19531465141159338, 0.1950218526601817, 0.17122013364316674, 0.20065031303102637, 0.21327363691551826, 0.19280971285740348, 0.2005806883800895, 0.18235089629088447, 0.20958511384688328, 0.1949145293191054, 0.1971280788162273, 0.203713083884847, 0.18748635659307142, 0.21688358694316395, 0.20611138167968868, 0.1852035875386072, 0.19871859568743183, 0.2196574737718175, 0.19794482758530907, 0.21415630466300478, 0.1859220018448342, 0.18262403948886774, 0.19146676989114358, 0.20098375071615462, 0.18489793228014853, 0.19569956235436176, 0.18704574611717895, 0.18953006715129445, 0.19441271623781836, 0.19637958690317076, 0.18899597655948286, 0.18737999194770527, 0.20424002723190157, 0.20161562130077115, 0.1964988952692604, 0.19770653579829583, 0.18165301621365865, 0.19216836085624256, 0.20622412347648467, 0.19255592121822498, 0.18020179058526625, 0.19539711735383516, 0.20618670835921632, 0.1966215642124325, 0.19480669917135834, 0.1871296774130682, 0.20646812578130494, 0.20460701059076952, 0.1794769993588469, 0.2216957456234856, 0.20831900152353333, 0.20242322126722245, 0.19549801351840035, 0.19501446249709287, 0.18702674473624442, 0.20165947046907856, 0.19264967332155541, 0.19570448051834255, 0.1983094663988657, 0.19636216618768063, 0.1866794357321008, 0.18169988370637608, 0.20377946835111188, 0.2037390633653073, 0.18680557279300258, 0.2154121900077906, 0.1842065790630073, 0.19539458974812535, 0.21404254007424744, 0.1869298586603681, 0.2019908569452124, 0.18820119654538503, 0.18832182264462993, 0.1881696351200557, 0.19303109071422617, 0.18735328567560894, 0.18243815796220358, 0.18116198467677017, 0.16983250351881468, 0.19021845559570394, 0.17846374405879978, 0.18343185445672874, 0.1900320462182219, 0.18718224762629526, 0.2166470094287507, 0.20176384826797594, 0.198118149188664, 0.19380665643795036, 0.19594354236706296, 0.18243150886145099, 0.1965092389127934, 0.1832366007407714, 0.19224508945175423, 0.18905267659922836, 0.18178738173307474, 0.2035618534404986, 0.1855022018977531, 0.20249031579486637]\n",
      "Average 1-Wasserstein Distance:  0.19489375581404553\n"
     ]
    }
   ],
   "source": [
    "# Importing necessary libraries\n",
    "import numpy as np\n",
    "import math\n",
    "import matplotlib.pyplot as plt\n",
    "from scipy.stats import wasserstein_distance\n",
    "\n",
    "# Defining the provided functions and parameters\n",
    "\n",
    "# Define the weight function\n",
    "def omega(t, u, x, c1, c2):\n",
    "    sigma = math.sqrt(np.var(Y))\n",
    "    h1 = (c1/math.sqrt(12))*(T ** (-(1/5)))\n",
    "    h2 = c2*sigma*(T ** (-(1/5)))\n",
    "    numerator = K_h1(u - t / T, h1) * np.prod(K_h2(x - Y[t-1], h2))\n",
    "    denominator = np.sum([K_h1(u - s / T, h1) * np.prod(K_h2(x - Y[s-1], h2)) for s in range(1, T+1)])\n",
    "    return numerator / denominator\n",
    "\n",
    "def ecdf(u, x, v):\n",
    "    weights = np.array([omega(t, u, x, c1, c2) for t in range(1, T+1)])\n",
    "    indicator = (Y <= v).astype(int)\n",
    "    return np.sum(weights * indicator)\n",
    "\n",
    "# Define uniform kernels\n",
    "def K_h1(z, h1):\n",
    "    return 0.5 if abs(z/h1) <= 1 else 0\n",
    "\n",
    "# Define Gaussian kernels\n",
    "def K_h2(z, h2):\n",
    "    return np.exp(-z**2 / (2 * h2**2))\n",
    "\n",
    "# Parameters\n",
    "T = 400  # Length of time series\n",
    "d = 1  # Number of covariates\n",
    "c1 = 5\n",
    "c2 = 1.68\n",
    "u_test = 0.5\n",
    "x_test = np.array([0.5])\n",
    "v_values = np.linspace(-2, 2, T)  # Placeholder values, will be updated in the loop\n",
    "\n",
    "# Running the replication loop\n",
    "W1_list = []\n",
    "\n",
    "for rep in range(100):\n",
    "    # Generate locally stationary data\n",
    "    np.random.seed(rep)  # Use different seed for each replication\n",
    "    Y = np.sin(np.linspace(0, 4 * np.pi, T)) + np.random.normal(0, 0.5, T)  # Time series with noise\n",
    "    \n",
    "    v_values = np.linspace(Y.min(), Y.max(), T)  # Update v_values based on new Y\n",
    "    \n",
    "    h1 = (c1/math.sqrt(12))*(T ** (-(1/5)))\n",
    "    h2 = c2*math.sqrt(np.var(Y))*(T ** (-(1/5)))\n",
    "    \n",
    "    # Test the weight function for a given (u, x)\n",
    "    weights = [omega(t, u_test, x_test, c1, c2) for t in range(1, T+1)]\n",
    "    \n",
    "    # Values for plotting\n",
    "    F_values = [ecdf(u_test, x_test, v) for v in v_values]\n",
    "    \n",
    "    # True CDF\n",
    "    data_sorted = np.sort(Y)\n",
    "    True_CDF = np.arange(1, len(data_sorted) + 1) / len(data_sorted)\n",
    "    \n",
    "    # Compute the 1-Wasserstein distance\n",
    "    W1 = wasserstein_distance(True_CDF, F_values)\n",
    "    W1_list.append(W1)\n",
    "\n",
    "# Computing mean 1-Wasserstein distance\n",
    "mean_W1 = np.mean(W1_list)\n",
    "\n",
    "print(\"1-Wasserstein Distance: \", W1_list)\n",
    "print(\"Average 1-Wasserstein Distance: \", mean_W1)\n"
   ]
  },
  {
   "cell_type": "code",
   "execution_count": null,
   "id": "e6925022",
   "metadata": {},
   "outputs": [],
   "source": []
  }
 ],
 "metadata": {
  "kernelspec": {
   "display_name": "Python 3 (ipykernel)",
   "language": "python",
   "name": "python3"
  },
  "language_info": {
   "codemirror_mode": {
    "name": "ipython",
    "version": 3
   },
   "file_extension": ".py",
   "mimetype": "text/x-python",
   "name": "python",
   "nbconvert_exporter": "python",
   "pygments_lexer": "ipython3",
   "version": "3.9.13"
  }
 },
 "nbformat": 4,
 "nbformat_minor": 5
}
