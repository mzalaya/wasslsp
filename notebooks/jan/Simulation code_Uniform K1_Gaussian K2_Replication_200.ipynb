{
 "cells": [
  {
   "cell_type": "code",
   "execution_count": 1,
   "id": "8d2b4361",
   "metadata": {},
   "outputs": [
    {
     "name": "stdout",
     "output_type": "stream",
     "text": [
      "1-Wasserstein Distance:  [0.16559458114649378, 0.1890488686933917, 0.1897108544123151, 0.1982160796072429, 0.1797220766426411, 0.19707218850266756, 0.18249815119776663, 0.1668923261644728, 0.18376607498958902, 0.1667121184285662, 0.1785862929136241, 0.17702163496222634, 0.16685443768559124, 0.17374383178939248, 0.1802283855195065, 0.19302910730704406, 0.17132096738713076, 0.19059405150582184, 0.1707357347505587, 0.213006262090907, 0.1883859261978027, 0.21716035444949047, 0.168019059729992, 0.1752328323417574, 0.18801695415534353, 0.18511252905588657, 0.1741166907333793, 0.21030288103007277, 0.2256913323345074, 0.20558971639129187, 0.18354898716774398, 0.19792834263736808, 0.16969388955064882, 0.19304528525232223, 0.18287983446223538, 0.18613303834858042, 0.16348000818176622, 0.18899032187754158, 0.16871238790325394, 0.1689844711531976, 0.18037432594159952, 0.19328730664669738, 0.19460803574619034, 0.1656949867571602, 0.17547987090241823, 0.17638401474382637, 0.18019308112414906, 0.1838415968315913, 0.23532329789027595, 0.1757803948172998, 0.18913850054006387, 0.2184234435184985, 0.18445286605598754, 0.16303507867424968, 0.17431188762835334, 0.1876462633040868, 0.2090877397518045, 0.17083707362195638, 0.1814530525108653, 0.16442318857105923, 0.16778500978690927, 0.19095476029837383, 0.19657367821733168, 0.18679938611246014, 0.2043765616781254, 0.1935108737487592, 0.17775428854459568, 0.1827328505479291, 0.20574636378616745, 0.18007939192122613, 0.17989776310379554, 0.16158150384614622, 0.18587741884977022, 0.17603113537306164, 0.18039969482195645, 0.16472629800533634, 0.1617677456009568, 0.17765364325273686, 0.1930427130138275, 0.16702750062736724, 0.16938951455565213, 0.2403283406283639, 0.1729466627426669, 0.19221764910618613, 0.18367912663820526, 0.19384450852256443, 0.17266707452801267, 0.18562898138088607, 0.17326332017364524, 0.20547811909840402, 0.1593518179270506, 0.17813636673551939, 0.17685528275887408, 0.18178273362387304, 0.20644740042784632, 0.17984571287154644, 0.16703552601876942, 0.21596483274127037, 0.16070868119492895, 0.20064276437951975]\n",
      "Average 1-Wasserstein Distance:  0.18429687871419884\n"
     ]
    }
   ],
   "source": [
    "# Importing necessary libraries\n",
    "import numpy as np\n",
    "import math\n",
    "import matplotlib.pyplot as plt\n",
    "from scipy.stats import wasserstein_distance\n",
    "\n",
    "# Defining the provided functions and parameters\n",
    "\n",
    "# Define the weight function\n",
    "def omega(t, u, x, c1, c2):\n",
    "    sigma = math.sqrt(np.var(Y))\n",
    "    h1 = (c1/math.sqrt(12))*(T ** (-(1/5)))\n",
    "    h2 = c2*sigma*(T ** (-(1/5)))\n",
    "    numerator = K_h1(u - t / T, h1) * np.prod(K_h2(x - Y[t-1], h2))\n",
    "    denominator = np.sum([K_h1(u - s / T, h1) * np.prod(K_h2(x - Y[s-1], h2)) for s in range(1, T+1)])\n",
    "    return numerator / denominator\n",
    "\n",
    "def ecdf(u, x, v):\n",
    "    weights = np.array([omega(t, u, x, c1, c2) for t in range(1, T+1)])\n",
    "    indicator = (Y <= v).astype(int)\n",
    "    return np.sum(weights * indicator)\n",
    "\n",
    "# Define uniform kernels\n",
    "def K_h1(z, h1):\n",
    "    return 0.5 if abs(z/h1) <= 1 else 0\n",
    "\n",
    "# Define Gaussian kernels\n",
    "def K_h2(z, h2):\n",
    "    return np.exp(-z**2 / (2 * h2**2))\n",
    "\n",
    "# Parameters\n",
    "T = 200  # Length of time series\n",
    "d = 1  # Number of covariates\n",
    "c1 = 5\n",
    "c2 = 1.68\n",
    "u_test = 0.5\n",
    "x_test = np.array([0.5])\n",
    "v_values = np.linspace(-2, 2, T)  # Placeholder values, will be updated in the loop\n",
    "\n",
    "# Running the replication loop\n",
    "W1_list = []\n",
    "\n",
    "for rep in range(100):\n",
    "    # Generate locally stationary data\n",
    "    np.random.seed(rep)  # Use different seed for each replication\n",
    "    Y = np.sin(np.linspace(0, 4 * np.pi, T)) + np.random.normal(0, 0.5, T)  # Time series with noise\n",
    "    \n",
    "    v_values = np.linspace(Y.min(), Y.max(), T)  # Update v_values based on new Y\n",
    "    \n",
    "    h1 = (c1/math.sqrt(12))*(T ** (-(1/5)))\n",
    "    h2 = c2*math.sqrt(np.var(Y))*(T ** (-(1/5)))\n",
    "    \n",
    "    # Test the weight function for a given (u, x)\n",
    "    weights = [omega(t, u_test, x_test, c1, c2) for t in range(1, T+1)]\n",
    "    \n",
    "    # Values for plotting\n",
    "    F_values = [ecdf(u_test, x_test, v) for v in v_values]\n",
    "    \n",
    "    # True CDF\n",
    "    data_sorted = np.sort(Y)\n",
    "    True_CDF = np.arange(1, len(data_sorted) + 1) / len(data_sorted)\n",
    "    \n",
    "    # Compute the 1-Wasserstein distance\n",
    "    W1 = wasserstein_distance(True_CDF, F_values)\n",
    "    W1_list.append(W1)\n",
    "\n",
    "# Computing mean 1-Wasserstein distance\n",
    "mean_W1 = np.mean(W1_list)\n",
    "\n",
    "print(\"1-Wasserstein Distance: \", W1_list)\n",
    "print(\"Average 1-Wasserstein Distance: \", mean_W1)\n"
   ]
  },
  {
   "cell_type": "code",
   "execution_count": null,
   "id": "a3216e17",
   "metadata": {},
   "outputs": [],
   "source": []
  }
 ],
 "metadata": {
  "kernelspec": {
   "display_name": "Python 3 (ipykernel)",
   "language": "python",
   "name": "python3"
  },
  "language_info": {
   "codemirror_mode": {
    "name": "ipython",
    "version": 3
   },
   "file_extension": ".py",
   "mimetype": "text/x-python",
   "name": "python",
   "nbconvert_exporter": "python",
   "pygments_lexer": "ipython3",
   "version": "3.9.13"
  }
 },
 "nbformat": 4,
 "nbformat_minor": 5
}
