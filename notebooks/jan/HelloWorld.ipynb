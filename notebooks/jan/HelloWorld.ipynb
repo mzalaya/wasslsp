{
 "cells": [
  {
   "cell_type": "code",
   "execution_count": 1,
   "id": "3f30e6b4",
   "metadata": {},
   "outputs": [
    {
     "name": "stdout",
     "output_type": "stream",
     "text": [
      "Hello World\n"
     ]
    }
   ],
   "source": [
    "print(\"Hello World\")"
   ]
  },
  {
   "cell_type": "code",
   "execution_count": 4,
   "id": "97e38ca3",
   "metadata": {},
   "outputs": [
    {
     "name": "stdout",
     "output_type": "stream",
     "text": [
      "20 19.95 Jan False\n"
     ]
    }
   ],
   "source": [
    "age = 20\n",
    "price=19.95\n",
    "first_name=\"Jan\"\n",
    "is_online= False\n",
    "print(age, price, first_name, is_online)"
   ]
  },
  {
   "cell_type": "code",
   "execution_count": 14,
   "id": "6a8621c6",
   "metadata": {},
   "outputs": [
    {
     "name": "stdout",
     "output_type": "stream",
     "text": [
      "What is your name? Jan\n",
      "Enter your birth year: 1993\n",
      "Hello Jan\n",
      "Your age is: 30\n"
     ]
    }
   ],
   "source": [
    "name = input(\"What is your name? \")\n",
    "birth_year= input(\"Enter your birth year: \")\n",
    "age = 2023-int(birth_year)\n",
    "print(\"Hello \"+name)\n",
    "print(\"Your age is: \"+str(age))"
   ]
  },
  {
   "cell_type": "code",
   "execution_count": null,
   "id": "b1fbd405",
   "metadata": {},
   "outputs": [],
   "source": [
    "course = 'Python for beginners'\n",
    "print(course)\n",
    "print(course.upper())\n",
    "print(course.lower())\n",
    "print(course.find('n'))\n",
    "print('y' in course)"
   ]
  },
  {
   "cell_type": "code",
   "execution_count": 5,
   "id": "f04ead7a",
   "metadata": {},
   "outputs": [
    {
     "name": "stdout",
     "output_type": "stream",
     "text": [
      "Temperature today: 20\n",
      "It's a nice day!\n",
      "Done\n"
     ]
    }
   ],
   "source": [
    "temperature = float(input(\"Temperature today: \"))\n",
    "if temperature > 30:\n",
    "    print(\"It's a hot day!\")\n",
    "    print(\"Drink plenty of water!\")\n",
    "elif temperature >= 20:\n",
    "    print(\"It's a nice day!\")\n",
    "elif temperature > 10:\n",
    "    print(\"It's a bit cold\")\n",
    "else:\n",
    "    print(\"It's a cold day. Wear jacket!\")\n",
    "print(\"Done\")"
   ]
  },
  {
   "cell_type": "code",
   "execution_count": 16,
   "id": "55a50bbb",
   "metadata": {},
   "outputs": [
    {
     "name": "stdout",
     "output_type": "stream",
     "text": [
      "Your weight: 50\n",
      "Enter 'K' if in kls. or 'L' if in lbs.:m\n",
      "Please enter a valid unit.\n"
     ]
    }
   ],
   "source": [
    "weight = int(input(\"Your weight: \"))\n",
    "unit = input(\"Enter 'K' if in kls. or 'L' if in lbs.:\")\n",
    "if unit.upper() == \"K\":\n",
    "    converted = weight/0.45\n",
    "    print(\"Weight in lbs: \"+str(converted))\n",
    "if unit.upper() == \"L\":\n",
    "    converted = weight*0.45\n",
    "    print(\"Weight in kls: \"+str(converted))\n",
    "if unit.upper != \"K\" or \"L\":\n",
    "    print(\"Please enter a valid unit.\")"
   ]
  },
  {
   "cell_type": "code",
   "execution_count": 22,
   "id": "808bde29",
   "metadata": {},
   "outputs": [
    {
     "name": "stdout",
     "output_type": "stream",
     "text": [
      "*\n",
      "**\n",
      "***\n",
      "****\n",
      "*****\n",
      "******\n",
      "*******\n",
      "********\n",
      "*********\n",
      "**********\n"
     ]
    }
   ],
   "source": [
    "i = 1\n",
    "while i <= 10:\n",
    "    print(i*'*')\n",
    "    i = i + 1\n"
   ]
  },
  {
   "cell_type": "code",
   "execution_count": 29,
   "id": "4aac3c8c",
   "metadata": {},
   "outputs": [
    {
     "name": "stdout",
     "output_type": "stream",
     "text": [
      "['Jan', 'Nino', 'Gabayran']\n"
     ]
    }
   ],
   "source": [
    "names = [\"Jan\", \"nino\",\"Gabayran\",\"Tinio\"]\n",
    "names[1] = \"Nino\"\n",
    "print(names[0:3])"
   ]
  },
  {
   "cell_type": "code",
   "execution_count": 39,
   "id": "542aab53",
   "metadata": {},
   "outputs": [
    {
     "name": "stdout",
     "output_type": "stream",
     "text": [
      "[0, 1, 2, 3, 4, 5, 6]\n",
      "7\n"
     ]
    }
   ],
   "source": [
    "numbers = [1,2,3,4,4,5]\n",
    "numbers.append(6)\n",
    "numbers.insert(0, 0)\n",
    "numbers.remove(4)\n",
    "print(numbers)\n",
    "print(len(numbers))"
   ]
  },
  {
   "cell_type": "code",
   "execution_count": 41,
   "id": "e40acff4",
   "metadata": {},
   "outputs": [
    {
     "name": "stdout",
     "output_type": "stream",
     "text": [
      "1\n",
      "2\n",
      "3\n",
      "4\n",
      "5\n"
     ]
    }
   ],
   "source": [
    "numbers = [1,2,3,4,5]\n",
    "for value in numbers:\n",
    "    print(value)"
   ]
  },
  {
   "cell_type": "code",
   "execution_count": 44,
   "id": "20c88be0",
   "metadata": {},
   "outputs": [
    {
     "name": "stdout",
     "output_type": "stream",
     "text": [
      "range(5, 10, 2)\n",
      "5\n",
      "7\n",
      "9\n"
     ]
    }
   ],
   "source": [
    "numbers = range(5,10,2)\n",
    "print(numbers)\n",
    "for number in numbers:\n",
    "    print(number)"
   ]
  },
  {
   "cell_type": "code",
   "execution_count": 51,
   "id": "64b65705",
   "metadata": {},
   "outputs": [
    {
     "name": "stdout",
     "output_type": "stream",
     "text": [
      "(1, 2, 3, 3)\n",
      "2\n"
     ]
    }
   ],
   "source": [
    "numbers = (1,2,3,3) #tuple\n",
    "print(numbers)\n",
    "print(numbers.count(3))"
   ]
  },
  {
   "cell_type": "code",
   "execution_count": null,
   "id": "e8362e46",
   "metadata": {},
   "outputs": [],
   "source": []
  }
 ],
 "metadata": {
  "kernelspec": {
   "display_name": "Python 3 (ipykernel)",
   "language": "python",
   "name": "python3"
  },
  "language_info": {
   "codemirror_mode": {
    "name": "ipython",
    "version": 3
   },
   "file_extension": ".py",
   "mimetype": "text/x-python",
   "name": "python",
   "nbconvert_exporter": "python",
   "pygments_lexer": "ipython3",
   "version": "3.9.13"
  }
 },
 "nbformat": 4,
 "nbformat_minor": 5
}
