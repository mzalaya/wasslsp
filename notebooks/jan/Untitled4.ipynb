{
 "cells": [
  {
   "cell_type": "code",
   "execution_count": null,
   "id": "18f406fa",
   "metadata": {},
   "outputs": [],
   "source": [
    "!pip install tensorflow\n",
    "import tensorflow as tf  # or import torch\n",
    "\n",
    "if tf.test.is_gpu_available():\n",
    "    print(\"GPU is available\")\n",
    "else:\n",
    "    print(\"GPU is not available. Using CPU.\")\n",
    "\n",
    "# Specify the GPU device (e.g., GPU 0)\n",
    "physical_devices = tf.config.list_physical_devices('GPU')\n",
    "tf.config.experimental.set_memory_growth(physical_devices[0], True)\n",
    "\n",
    "# Assuming 'model' is your TensorFlow model\n",
    "model = model.to('cuda:0')  # Move model to GPU\n",
    "\n",
    "# Assuming 'data' is your input data (e.g., a tensor)\n",
    "data = data.to('cuda:0')    # Move data to GPU"
   ]
  },
  {
   "cell_type": "code",
   "execution_count": null,
   "id": "edf26d48",
   "metadata": {},
   "outputs": [],
   "source": []
  }
 ],
 "metadata": {
  "kernelspec": {
   "display_name": "Python 3 (ipykernel)",
   "language": "python",
   "name": "python3"
  },
  "language_info": {
   "codemirror_mode": {
    "name": "ipython",
    "version": 3
   },
   "file_extension": ".py",
   "mimetype": "text/x-python",
   "name": "python",
   "nbconvert_exporter": "python",
   "pygments_lexer": "ipython3",
   "version": "3.9.13"
  }
 },
 "nbformat": 4,
 "nbformat_minor": 5
}
