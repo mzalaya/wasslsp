{
 "cells": [
  {
   "cell_type": "code",
   "execution_count": 3,
   "id": "45e5e7c4",
   "metadata": {},
   "outputs": [],
   "source": [
    "import pandas as pd"
   ]
  },
  {
   "cell_type": "code",
   "execution_count": 17,
   "id": "68a0cd5f",
   "metadata": {},
   "outputs": [
    {
     "data": {
      "text/html": [
       "<div>\n",
       "<style scoped>\n",
       "    .dataframe tbody tr th:only-of-type {\n",
       "        vertical-align: middle;\n",
       "    }\n",
       "\n",
       "    .dataframe tbody tr th {\n",
       "        vertical-align: top;\n",
       "    }\n",
       "\n",
       "    .dataframe thead th {\n",
       "        text-align: right;\n",
       "    }\n",
       "</style>\n",
       "<table border=\"1\" class=\"dataframe\">\n",
       "  <thead>\n",
       "    <tr style=\"text-align: right;\">\n",
       "      <th></th>\n",
       "      <th>time</th>\n",
       "      <th>AirPassengers</th>\n",
       "    </tr>\n",
       "  </thead>\n",
       "  <tbody>\n",
       "    <tr>\n",
       "      <th>0</th>\n",
       "      <td>1949.000000</td>\n",
       "      <td>112</td>\n",
       "    </tr>\n",
       "    <tr>\n",
       "      <th>1</th>\n",
       "      <td>1949.083333</td>\n",
       "      <td>118</td>\n",
       "    </tr>\n",
       "    <tr>\n",
       "      <th>2</th>\n",
       "      <td>1949.166667</td>\n",
       "      <td>132</td>\n",
       "    </tr>\n",
       "    <tr>\n",
       "      <th>3</th>\n",
       "      <td>1949.250000</td>\n",
       "      <td>129</td>\n",
       "    </tr>\n",
       "    <tr>\n",
       "      <th>4</th>\n",
       "      <td>1949.333333</td>\n",
       "      <td>121</td>\n",
       "    </tr>\n",
       "    <tr>\n",
       "      <th>...</th>\n",
       "      <td>...</td>\n",
       "      <td>...</td>\n",
       "    </tr>\n",
       "    <tr>\n",
       "      <th>139</th>\n",
       "      <td>1960.583333</td>\n",
       "      <td>606</td>\n",
       "    </tr>\n",
       "    <tr>\n",
       "      <th>140</th>\n",
       "      <td>1960.666667</td>\n",
       "      <td>508</td>\n",
       "    </tr>\n",
       "    <tr>\n",
       "      <th>141</th>\n",
       "      <td>1960.750000</td>\n",
       "      <td>461</td>\n",
       "    </tr>\n",
       "    <tr>\n",
       "      <th>142</th>\n",
       "      <td>1960.833333</td>\n",
       "      <td>390</td>\n",
       "    </tr>\n",
       "    <tr>\n",
       "      <th>143</th>\n",
       "      <td>1960.916667</td>\n",
       "      <td>432</td>\n",
       "    </tr>\n",
       "  </tbody>\n",
       "</table>\n",
       "<p>144 rows × 2 columns</p>\n",
       "</div>"
      ],
      "text/plain": [
       "            time  AirPassengers\n",
       "0    1949.000000            112\n",
       "1    1949.083333            118\n",
       "2    1949.166667            132\n",
       "3    1949.250000            129\n",
       "4    1949.333333            121\n",
       "..           ...            ...\n",
       "139  1960.583333            606\n",
       "140  1960.666667            508\n",
       "141  1960.750000            461\n",
       "142  1960.833333            390\n",
       "143  1960.916667            432\n",
       "\n",
       "[144 rows x 2 columns]"
      ]
     },
     "execution_count": 17,
     "metadata": {},
     "output_type": "execute_result"
    }
   ],
   "source": [
    "airpassenger = pd.read_csv(\"airpassenger.csv\")\n",
    "airpassengers"
   ]
  },
  {
   "cell_type": "code",
   "execution_count": 6,
   "id": "b426a211",
   "metadata": {},
   "outputs": [],
   "source": [
    "import numpy as np\n",
    "import matplotlib.pyplot as plt\n",
    "import sklearn\n",
    "import seaborn as sns\n",
    "\n",
    "%matplotlib inline\n",
    "\n",
    "import warnings\n",
    "warnings.filterwarnings('ignore')"
   ]
  },
  {
   "cell_type": "code",
   "execution_count": 7,
   "id": "c312ca66",
   "metadata": {},
   "outputs": [],
   "source": [
    "from matplotlib.pylab import rcParams\n",
    "plt.rcParams['figure.figsize']=(12,5)\n",
    "plt.rcParams['axes.grid']=False\n",
    "plt.rcParams['font.size']=10\n",
    "plt.rcParams['font.style']='normal'"
   ]
  },
  {
   "cell_type": "code",
   "execution_count": 11,
   "id": "1f4a5a90",
   "metadata": {},
   "outputs": [
    {
     "name": "stdout",
     "output_type": "stream",
     "text": [
      "<bound method DataFrame.info of             time  AirPassengers\n",
      "0    1949.000000            112\n",
      "1    1949.083333            118\n",
      "2    1949.166667            132\n",
      "3    1949.250000            129\n",
      "4    1949.333333            121\n",
      "..           ...            ...\n",
      "139  1960.583333            606\n",
      "140  1960.666667            508\n",
      "141  1960.750000            461\n",
      "142  1960.833333            390\n",
      "143  1960.916667            432\n",
      "\n",
      "[144 rows x 2 columns]>\n",
      "\n",
      "          time  AirPassengers\n",
      "count   144.00         144.00\n",
      "mean   1954.96         280.30\n",
      "std       3.48         119.97\n",
      "min    1949.00         104.00\n",
      "25%    1951.98         180.00\n",
      "50%    1954.96         265.50\n",
      "75%    1957.94         360.50\n",
      "max    1960.92         622.00\n",
      "\n"
     ]
    }
   ],
   "source": [
    "print(airpassengers.info)\n",
    "print('')\n",
    "print(airpassengers.describe().round(decimals=2))\n",
    "print('')"
   ]
  },
  {
   "cell_type": "code",
   "execution_count": null,
   "id": "0d918909",
   "metadata": {},
   "outputs": [],
   "source": []
  }
 ],
 "metadata": {
  "kernelspec": {
   "display_name": "Python 3 (ipykernel)",
   "language": "python",
   "name": "python3"
  },
  "language_info": {
   "codemirror_mode": {
    "name": "ipython",
    "version": 3
   },
   "file_extension": ".py",
   "mimetype": "text/x-python",
   "name": "python",
   "nbconvert_exporter": "python",
   "pygments_lexer": "ipython3",
   "version": "3.9.13"
  }
 },
 "nbformat": 4,
 "nbformat_minor": 5
}
