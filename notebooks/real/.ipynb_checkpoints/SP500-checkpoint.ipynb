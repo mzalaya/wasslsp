{
 "cells": [
  {
   "metadata": {},
   "cell_type": "markdown",
   "source": [
    "# SP500 data \n",
    "###### Author: Mokhtar Z. Alaya <alayaelm@utc.fr> "
   ],
   "id": "da67bd76bd8399ff"
  },
  {
   "cell_type": "code",
   "id": "initial_id",
   "metadata": {
    "collapsed": true,
    "ExecuteTime": {
     "end_time": "2024-06-03T21:22:10.983589Z",
     "start_time": "2024-06-03T21:22:10.854523Z"
    }
   },
   "source": [
    "import numpy as np\n",
    "import pandas as pd \n",
    "import os\n",
    "import random\n",
    "from tqdm import tqdm\n",
    "import matplotlib\n",
    "import seaborn as sns\n",
    "import matplotlib.pyplot as plt\n",
    "import plotly.graph_objs as go\n",
    "from plotly.offline import init_notebook_mode, iplot\n",
    "from plotly import tools\n",
    "from scipy.stats import mannwhitneyu\n",
    "\n",
    "import sys\n",
    "sys.path.append('/Users/mzalaya/Library/CloudStorage/Dropbox/research/git/wasslsp/src')\n",
    "\n",
    "from src.utils import *\n",
    "from src.kernels import Kernel\n",
    "\n",
    "init_notebook_mode(connected=True) ## plotly init\n",
    "\n",
    "import os\n",
    "path_data = \"/Users/mzalaya/Library/CloudStorage/Dropbox/research/git/wasslsp/data/\""
   ],
   "outputs": [
    {
     "data": {
      "text/html": [
       "        <script type=\"text/javascript\">\n",
       "        window.PlotlyConfig = {MathJaxConfig: 'local'};\n",
       "        if (window.MathJax && window.MathJax.Hub && window.MathJax.Hub.Config) {window.MathJax.Hub.Config({SVG: {font: \"STIX-Web\"}});}\n",
       "        if (typeof require !== 'undefined') {\n",
       "        require.undef(\"plotly\");\n",
       "        requirejs.config({\n",
       "            paths: {\n",
       "                'plotly': ['https://cdn.plot.ly/plotly-2.12.1.min']\n",
       "            }\n",
       "        });\n",
       "        require(['plotly'], function(Plotly) {\n",
       "            window._Plotly = Plotly;\n",
       "        });\n",
       "        }\n",
       "        </script>\n",
       "        "
      ]
     },
     "metadata": {},
     "output_type": "display_data"
    }
   ],
   "execution_count": 2
  },
  {
   "metadata": {
    "ExecuteTime": {
     "end_time": "2024-06-03T21:24:06.030337Z",
     "start_time": "2024-06-03T21:24:06.022951Z"
    }
   },
   "cell_type": "code",
   "source": "df_sp500 = pd.read_csv(path_data + 'sp500_data.csv')# 'sp500.csv')",
   "id": "f2a5fc294d9a5719",
   "outputs": [],
   "execution_count": 11
  },
  {
   "metadata": {
    "ExecuteTime": {
     "end_time": "2024-06-03T21:24:06.540591Z",
     "start_time": "2024-06-03T21:24:06.538211Z"
    }
   },
   "cell_type": "code",
   "source": "df_sp500.shape, ",
   "id": "30735ebf3a1dc2f2",
   "outputs": [
    {
     "data": {
      "text/plain": [
       "((8372, 5),)"
      ]
     },
     "execution_count": 12,
     "metadata": {},
     "output_type": "execute_result"
    }
   ],
   "execution_count": 12
  },
  {
   "metadata": {
    "ExecuteTime": {
     "end_time": "2024-06-03T21:24:10.965837Z",
     "start_time": "2024-06-03T21:24:10.959590Z"
    }
   },
   "cell_type": "code",
   "source": "df_sp500.head()",
   "id": "869ac9f6259706cc",
   "outputs": [
    {
     "data": {
      "text/plain": [
       "         Date     SP500  T10yAaa.lag  AaaBaa.lag  T10yT1y.lag\n",
       "0  1986-01-03  0.006136         0.88        1.46         1.40\n",
       "1  1986-01-06 -0.001091         0.87        1.43         1.40\n",
       "2  1986-01-07  0.014843         0.87        1.42         1.43\n",
       "3  1986-01-08 -0.027647         0.91        1.44         1.35\n",
       "4  1986-01-09 -0.008984         0.76        1.45         1.40"
      ],
      "text/html": [
       "<div>\n",
       "<style scoped>\n",
       "    .dataframe tbody tr th:only-of-type {\n",
       "        vertical-align: middle;\n",
       "    }\n",
       "\n",
       "    .dataframe tbody tr th {\n",
       "        vertical-align: top;\n",
       "    }\n",
       "\n",
       "    .dataframe thead th {\n",
       "        text-align: right;\n",
       "    }\n",
       "</style>\n",
       "<table border=\"1\" class=\"dataframe\">\n",
       "  <thead>\n",
       "    <tr style=\"text-align: right;\">\n",
       "      <th></th>\n",
       "      <th>Date</th>\n",
       "      <th>SP500</th>\n",
       "      <th>T10yAaa.lag</th>\n",
       "      <th>AaaBaa.lag</th>\n",
       "      <th>T10yT1y.lag</th>\n",
       "    </tr>\n",
       "  </thead>\n",
       "  <tbody>\n",
       "    <tr>\n",
       "      <th>0</th>\n",
       "      <td>1986-01-03</td>\n",
       "      <td>0.006136</td>\n",
       "      <td>0.88</td>\n",
       "      <td>1.46</td>\n",
       "      <td>1.40</td>\n",
       "    </tr>\n",
       "    <tr>\n",
       "      <th>1</th>\n",
       "      <td>1986-01-06</td>\n",
       "      <td>-0.001091</td>\n",
       "      <td>0.87</td>\n",
       "      <td>1.43</td>\n",
       "      <td>1.40</td>\n",
       "    </tr>\n",
       "    <tr>\n",
       "      <th>2</th>\n",
       "      <td>1986-01-07</td>\n",
       "      <td>0.014843</td>\n",
       "      <td>0.87</td>\n",
       "      <td>1.42</td>\n",
       "      <td>1.43</td>\n",
       "    </tr>\n",
       "    <tr>\n",
       "      <th>3</th>\n",
       "      <td>1986-01-08</td>\n",
       "      <td>-0.027647</td>\n",
       "      <td>0.91</td>\n",
       "      <td>1.44</td>\n",
       "      <td>1.35</td>\n",
       "    </tr>\n",
       "    <tr>\n",
       "      <th>4</th>\n",
       "      <td>1986-01-09</td>\n",
       "      <td>-0.008984</td>\n",
       "      <td>0.76</td>\n",
       "      <td>1.45</td>\n",
       "      <td>1.40</td>\n",
       "    </tr>\n",
       "  </tbody>\n",
       "</table>\n",
       "</div>"
      ]
     },
     "execution_count": 13,
     "metadata": {},
     "output_type": "execute_result"
    }
   ],
   "execution_count": 13
  },
  {
   "metadata": {
    "ExecuteTime": {
     "end_time": "2024-06-03T21:25:16.478463Z",
     "start_time": "2024-06-03T21:24:18.752703Z"
    }
   },
   "cell_type": "code",
   "source": [
    "plt.rcParams[\"figure.figsize\"] = (20,3)\n",
    "plt.plot(df_sp500['Date'], df_sp500['SP500'], label=\"original data\")\n",
    "# plt.plot(df_sp500['Date'], df_sp500['SP500'].diff(), label=\"diff\")\n",
    "plt.legend()\n",
    "plt.title(\"SP500 (T=8372)\")\n",
    "plt.show()"
   ],
   "id": "82e264be043e4b29",
   "outputs": [
    {
     "data": {
      "text/plain": [
       "<Figure size 2000x300 with 1 Axes>"
      ],
      "image/png": "[encoded data removed]"
     },
     "metadata": {},
     "output_type": "display_data"
    }
   ],
   "execution_count": 14
  },
  {
   "metadata": {},
   "cell_type": "markdown",
   "source": "# Nadara-Watson estimator ",
   "id": "3f220738195d9a26"
  },
  {
   "metadata": {
    "jupyter": {
     "is_executing": true
    },
    "ExecuteTime": {
     "start_time": "2024-06-03T21:46:24.214308Z"
    }
   },
   "cell_type": "code",
   "source": [
    "# C = 2\n",
    "space_kernel = \"gaussian\" # \"silverman\"\n",
    "time_kernel = \"uniform\"\n",
    "T = df_sp500.shape[0]\n",
    "d = 1\n",
    "bandwidth = T **(-0.4 / (d+1)) / 50\n",
    "X_dict = df_sp500['SP500'].values.reshape(-1,1) #df_malleco['Value'].diff().values.reshape(-1, 1)\n",
    "X_tvar_2 = df_sp500['SP500'].values #df_malleco['Value'].diff().values\n",
    "\n",
    "GaussUnifKernel = Kernel(T=T, bandwidth=bandwidth, space_kernel=space_kernel, time_kernel=time_kernel)\n",
    "GaussUnifKernel \n",
    "Y_t_T = df_sp500['SP500'].values\n",
    "\n",
    "weights = {}\n",
    "for t in range(T):\n",
    "    weights[str(t)] = GaussUnifKernel.fit(X_dict, t)\n",
    "    \n",
    "m_hat = [np.sum(weights[str(t)] * Y_t_T) for t in range(T)]"
   ],
   "id": "cf9b96a005f20b25",
   "outputs": [],
   "execution_count": null
  },
  {
   "metadata": {
    "jupyter": {
     "is_executing": true
    }
   },
   "cell_type": "code",
   "source": [
    "dates = df_sp500['Date'].copy()\n",
    "dates = pd.to_datetime(dates, format=\"%Y-%m-%d\")\n",
    "# dates"
   ],
   "id": "2972794154f65656",
   "outputs": [],
   "execution_count": null
  },
  {
   "metadata": {
    "jupyter": {
     "is_executing": true
    }
   },
   "cell_type": "code",
   "source": "type(dates[0])",
   "id": "db4cdaa5e6dd33bc",
   "outputs": [],
   "execution_count": null
  },
  {
   "metadata": {
    "jupyter": {
     "is_executing": true
    }
   },
   "cell_type": "code",
   "source": [
    "import logging\n",
    "\n",
    "logging.basicConfig(\n",
    "    format=\"%(asctime)s %(message)s\", datefmt=\"%Y/%m/%d %H:%M:%S\", level=logging.INFO\n",
    ")\n",
    "\n",
    "path_fig = \"/Users/mzalaya/Library/CloudStorage/Dropbox/research/git/wasslsp/figs/\"\n",
    "\n",
    "fig, ax = plt.subplots(nrows=2, ncols=1, figsize=(10,3) , sharex=True)\n",
    "plt.subplots_adjust(wspace=0, hspace=0.02)\n",
    "# plt.rcParams['axes.grid'] = True\n",
    "# plt.rcParams['axes.facecolor'] = 'black'\n",
    "\n",
    "output_filename = \"SP500-NW-Gaussian-sp-Uniform-time-C-50.pdf\"\n",
    "# from matplotlib.colors import ListedColormap\n",
    "# cm = plt.cm.RdBu\n",
    "# cm_bright = ListedColormap([\"#FF0000\", \"#0000FF\"])\n",
    "\n",
    "ax[0].plot(dates, X_tvar_2, lw=1, label=\"SP500\", color=\"#FF0000\")  # #, color=\"r\") #, cmap=cm)\n",
    "ax[0].set_xlim(min(dates), max(dates.values))\n",
    "ax[0].set_ylim(min(min(m_hat), min(X_tvar_2)),  max(max(m_hat), max(X_tvar_2)))\n",
    "ax[0].legend(loc='lower center')\n",
    "\n",
    "ax[1].plot(dates, np.array(m_hat), lw=1, label=\"NW estimator\" , c=\"#0000FF\")#cm_bright[0]) #\"orange\")\n",
    "ax[1].set_xlim(min(dates.values), max(dates))\n",
    "ax[1].set_ylim(min(min(m_hat), min(X_tvar_2)),  max(max(m_hat), max(X_tvar_2)))\n",
    "ax[1].legend(loc='lower center')\n",
    "ax[1].set_xlabel(\"Year\")\n",
    "ax[1].xaxis.set_label_coords(0.5, -0.19)\n",
    "plt.savefig(path_fig+output_filename, dpi=300)\n",
    "plt.tight_layout()\n",
    "plt.show()\n",
    "logging.info(\"Saved result in file %s\" % output_filename)"
   ],
   "id": "8e5ff50207fb641c",
   "outputs": [],
   "execution_count": null
  },
  {
   "metadata": {
    "jupyter": {
     "is_executing": true
    }
   },
   "cell_type": "code",
   "source": [
    "from sklearn.metrics import mean_squared_error as mse\n",
    "from sklearn.metrics import mean_absolute_error as mae\n",
    "\n",
    "np.sqrt(mse(np.array(m_hat), X_tvar_2)), mae(np.array(m_hat), X_tvar_2)"
   ],
   "id": "58cd1384b9754c6f",
   "outputs": [],
   "execution_count": null
  },
  {
   "metadata": {},
   "cell_type": "code",
   "outputs": [],
   "execution_count": null,
   "source": "",
   "id": "7d70615368264baf"
  }
 ],
 "metadata": {
  "kernelspec": {
   "display_name": "Python 3",
   "language": "python",
   "name": "python3"
  },
  "language_info": {
   "codemirror_mode": {
    "name": "ipython",
    "version": 2
   },
   "file_extension": ".py",
   "mimetype": "text/x-python",
   "name": "python",
   "nbconvert_exporter": "python",
   "pygments_lexer": "ipython2",
   "version": "2.7.6"
  }
 },
 "nbformat": 4,
 "nbformat_minor": 5
}
