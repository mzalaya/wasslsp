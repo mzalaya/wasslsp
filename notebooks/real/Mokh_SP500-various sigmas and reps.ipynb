{
 "cells": [
  {
   "cell_type": "markdown",
   "id": "da67bd76bd8399ff",
   "metadata": {},
   "source": [
    "# SP500 data \n",
    "###### Author: Mokhtar Z. Alaya <alayaelm@utc.fr> "
   ]
  },
  {
   "cell_type": "code",
   "id": "initial_id",
   "metadata": {
    "ExecuteTime": {
     "end_time": "2024-10-17T20:07:53.247320Z",
     "start_time": "2024-10-17T20:07:53.243216Z"
    }
   },
   "source": [
    "import numpy as np\n",
    "import pandas as pd \n",
    "import os\n",
    "import random\n",
    "from tqdm import tqdm\n",
    "import matplotlib\n",
    "import seaborn as sns\n",
    "import matplotlib.pyplot as plt\n",
    "import plotly.graph_objs as go\n",
    "from plotly.offline import init_notebook_mode, iplot\n",
    "from plotly import tools\n",
    "from scipy.stats import mannwhitneyu\n",
    "\n",
    "import sys\n",
    "sys.path.append('/volper/users/alayaelm/Documents/git/wasslsp')\n",
    "\n",
    "from src.utils import *\n",
    "from src.kernels import Kernel\n",
    "\n",
    "init_notebook_mode(connected=True) ## plotly init\n",
    "\n",
    "import os\n",
    "path_data = '/volper/users/alayaelm/Documents/git/wasslsp/data/'"
   ],
   "outputs": [
    {
     "data": {
      "text/html": [
       "        <script type=\"text/javascript\">\n",
       "        window.PlotlyConfig = {MathJaxConfig: 'local'};\n",
       "        if (window.MathJax && window.MathJax.Hub && window.MathJax.Hub.Config) {window.MathJax.Hub.Config({SVG: {font: \"STIX-Web\"}});}\n",
       "        if (typeof require !== 'undefined') {\n",
       "        require.undef(\"plotly\");\n",
       "        requirejs.config({\n",
       "            paths: {\n",
       "                'plotly': ['https://cdn.plot.ly/plotly-2.35.2.min']\n",
       "            }\n",
       "        });\n",
       "        require(['plotly'], function(Plotly) {\n",
       "            window._Plotly = Plotly;\n",
       "        });\n",
       "        }\n",
       "        </script>\n",
       "        "
      ]
     },
     "metadata": {},
     "output_type": "display_data"
    }
   ],
   "execution_count": 9
  },
  {
   "metadata": {
    "ExecuteTime": {
     "end_time": "2024-10-17T20:07:53.771273Z",
     "start_time": "2024-10-17T20:07:53.768606Z"
    }
   },
   "cell_type": "code",
   "source": "print(\"MT02\")",
   "id": "11e90149e5ce767e",
   "outputs": [
    {
     "name": "stdout",
     "output_type": "stream",
     "text": [
      "MT02\n"
     ]
    }
   ],
   "execution_count": 10
  },
  {
   "cell_type": "code",
   "id": "f2a5fc294d9a5719",
   "metadata": {
    "ExecuteTime": {
     "end_time": "2024-10-17T20:07:54.103839Z",
     "start_time": "2024-10-17T20:07:54.094564Z"
    }
   },
   "source": [
    "df_sp500 = pd.read_csv(path_data + 'sp500_data.csv')# 'sp500.csv')"
   ],
   "outputs": [],
   "execution_count": 11
  },
  {
   "cell_type": "code",
   "id": "30735ebf3a1dc2f2",
   "metadata": {
    "ExecuteTime": {
     "end_time": "2024-10-17T20:07:54.711066Z",
     "start_time": "2024-10-17T20:07:54.708225Z"
    }
   },
   "source": [
    "df_sp500.shape, "
   ],
   "outputs": [
    {
     "data": {
      "text/plain": [
       "((8372, 5),)"
      ]
     },
     "execution_count": 12,
     "metadata": {},
     "output_type": "execute_result"
    }
   ],
   "execution_count": 12
  },
  {
   "cell_type": "code",
   "id": "869ac9f6259706cc",
   "metadata": {
    "ExecuteTime": {
     "end_time": "2024-10-17T20:07:55.297679Z",
     "start_time": "2024-10-17T20:07:55.291219Z"
    }
   },
   "source": [
    "df_sp500.head()"
   ],
   "outputs": [
    {
     "data": {
      "text/plain": [
       "         Date     SP500  T10yAaa.lag  AaaBaa.lag  T10yT1y.lag\n",
       "0  1986-01-03  0.006136         0.88        1.46         1.40\n",
       "1  1986-01-06 -0.001091         0.87        1.43         1.40\n",
       "2  1986-01-07  0.014843         0.87        1.42         1.43\n",
       "3  1986-01-08 -0.027647         0.91        1.44         1.35\n",
       "4  1986-01-09 -0.008984         0.76        1.45         1.40"
      ],
      "text/html": [
       "<div>\n",
       "<style scoped>\n",
       "    .dataframe tbody tr th:only-of-type {\n",
       "        vertical-align: middle;\n",
       "    }\n",
       "\n",
       "    .dataframe tbody tr th {\n",
       "        vertical-align: top;\n",
       "    }\n",
       "\n",
       "    .dataframe thead th {\n",
       "        text-align: right;\n",
       "    }\n",
       "</style>\n",
       "<table border=\"1\" class=\"dataframe\">\n",
       "  <thead>\n",
       "    <tr style=\"text-align: right;\">\n",
       "      <th></th>\n",
       "      <th>Date</th>\n",
       "      <th>SP500</th>\n",
       "      <th>T10yAaa.lag</th>\n",
       "      <th>AaaBaa.lag</th>\n",
       "      <th>T10yT1y.lag</th>\n",
       "    </tr>\n",
       "  </thead>\n",
       "  <tbody>\n",
       "    <tr>\n",
       "      <th>0</th>\n",
       "      <td>1986-01-03</td>\n",
       "      <td>0.006136</td>\n",
       "      <td>0.88</td>\n",
       "      <td>1.46</td>\n",
       "      <td>1.40</td>\n",
       "    </tr>\n",
       "    <tr>\n",
       "      <th>1</th>\n",
       "      <td>1986-01-06</td>\n",
       "      <td>-0.001091</td>\n",
       "      <td>0.87</td>\n",
       "      <td>1.43</td>\n",
       "      <td>1.40</td>\n",
       "    </tr>\n",
       "    <tr>\n",
       "      <th>2</th>\n",
       "      <td>1986-01-07</td>\n",
       "      <td>0.014843</td>\n",
       "      <td>0.87</td>\n",
       "      <td>1.42</td>\n",
       "      <td>1.43</td>\n",
       "    </tr>\n",
       "    <tr>\n",
       "      <th>3</th>\n",
       "      <td>1986-01-08</td>\n",
       "      <td>-0.027647</td>\n",
       "      <td>0.91</td>\n",
       "      <td>1.44</td>\n",
       "      <td>1.35</td>\n",
       "    </tr>\n",
       "    <tr>\n",
       "      <th>4</th>\n",
       "      <td>1986-01-09</td>\n",
       "      <td>-0.008984</td>\n",
       "      <td>0.76</td>\n",
       "      <td>1.45</td>\n",
       "      <td>1.40</td>\n",
       "    </tr>\n",
       "  </tbody>\n",
       "</table>\n",
       "</div>"
      ]
     },
     "execution_count": 13,
     "metadata": {},
     "output_type": "execute_result"
    }
   ],
   "execution_count": 13
  },
  {
   "cell_type": "code",
   "id": "82e264be043e4b29",
   "metadata": {
    "ExecuteTime": {
     "end_time": "2024-10-17T20:08:53.740445Z",
     "start_time": "2024-10-17T20:07:55.697905Z"
    }
   },
   "source": [
    "plt.rcParams[\"figure.figsize\"] = (20,3)\n",
    "plt.plot(df_sp500['Date'], df_sp500['SP500'], label=\"original data\")\n",
    "# plt.plot(df_sp500['Date'], df_sp500['SP500'].diff(), label=\"diff\")\n",
    "plt.legend()\n",
    "plt.title(\"SP500 (T=8372)\")\n",
    "plt.show()"
   ],
   "outputs": [
    {
     "data": {
      "text/plain": [
       "<Figure size 2000x300 with 1 Axes>"
      ],
      "image/png": "[encoded data removed]"
     },
     "metadata": {},
     "output_type": "display_data"
    }
   ],
   "execution_count": 14
  },
  {
   "cell_type": "code",
   "id": "2972794154f65656",
   "metadata": {
    "ExecuteTime": {
     "end_time": "2024-10-17T20:08:53.790516Z",
     "start_time": "2024-10-17T20:08:53.785283Z"
    }
   },
   "source": [
    "dates = df_sp500['Date'].copy()\n",
    "dates = pd.to_datetime(dates, format=\"%Y-%m-%d\")\n",
    "# dates"
   ],
   "outputs": [],
   "execution_count": 15
  },
  {
   "cell_type": "code",
   "id": "52db8ca1-4b6f-4451-b68f-0e82209c68e9",
   "metadata": {
    "ExecuteTime": {
     "end_time": "2024-10-17T20:08:53.844959Z",
     "start_time": "2024-10-17T20:08:53.842976Z"
    }
   },
   "source": [
    "T = df_sp500.shape[0]\n",
    "d = 1"
   ],
   "outputs": [],
   "execution_count": 16
  },
  {
   "cell_type": "code",
   "id": "469986e39920de73",
   "metadata": {
    "ExecuteTime": {
     "end_time": "2024-10-16T10:56:22.984769Z",
     "start_time": "2024-10-16T10:56:22.839975Z"
    }
   },
   "source": [
    "C = np.array([10, 12, 14, 16, 18, 20, 22, 24, 26, 28, 30])\n",
    "bandwidth = T **(-0.4 / (2*(d+1))) / C\n",
    "plt.plot(C, bandwidth, label=\"Bandwidth\")"
   ],
   "outputs": [
    {
     "data": {
      "text/plain": [
       "[<matplotlib.lines.Line2D at 0x7f4c48d7ad90>]"
      ]
     },
     "execution_count": 25,
     "metadata": {},
     "output_type": "execute_result"
    },
    {
     "data": {
      "text/plain": [
       "<Figure size 2000x300 with 1 Axes>"
      ],
      "image/png": "[encoded data removed]"
     },
     "metadata": {},
     "output_type": "display_data"
    }
   ],
   "execution_count": 25
  },
  {
   "cell_type": "code",
   "id": "a4535c198c2ae48f",
   "metadata": {
    "ExecuteTime": {
     "end_time": "2024-10-21T14:53:36.200792Z",
     "start_time": "2024-10-21T14:53:36.099087Z"
    }
   },
   "source": [
    "C = 70\n",
    "T = np.array([1000, 5000, 10000])\n",
    "\n",
    "xi = 0.4 / (2 * (d + 1))\n",
    "lambda_ = 1 / 12\n",
    "\n",
    "# bandwidth = T **(-0.4 / (d+1)) / C\n",
    "bandwidth = lambda_ * T **(-xi) \n",
    "plt.plot(T, 1 / (T**(1/2) * bandwidth**2), label=\"Bandwidth\")"
   ],
   "outputs": [
    {
     "data": {
      "text/plain": [
       "[<matplotlib.lines.Line2D at 0x7f8a097e8b50>]"
      ]
     },
     "execution_count": 39,
     "metadata": {},
     "output_type": "execute_result"
    },
    {
     "data": {
      "text/plain": [
       "<Figure size 500x400 with 1 Axes>"
      ],
      "image/png": "[encoded data removed]"
     },
     "metadata": {},
     "output_type": "display_data"
    }
   ],
   "execution_count": 39
  },
  {
   "metadata": {},
   "cell_type": "code",
   "outputs": [],
   "execution_count": null,
   "source": "times_t = [4000, 4250, 4500, 4750, 5000, 5250, 5500, 5750] \n",
   "id": "e165a536367ff988"
  },
  {
   "metadata": {},
   "cell_type": "code",
   "outputs": [],
   "execution_count": null,
   "source": "",
   "id": "324603fd783dbc28"
  },
  {
   "metadata": {},
   "cell_type": "code",
   "outputs": [],
   "execution_count": null,
   "source": "",
   "id": "a71e1cd2263cc57e"
  },
  {
   "cell_type": "code",
   "id": "02fd4b49",
   "metadata": {
    "ExecuteTime": {
     "end_time": "2024-10-17T20:08:53.973448Z",
     "start_time": "2024-10-17T20:08:53.887226Z"
    }
   },
   "source": [
    "\n",
    "T = df_sp500.shape[0]\n",
    "n_replications = 3\n",
    "d = 1\n",
    "\n",
    "\n",
    "X_tvar_2 = np.zeros(T)\n",
    "X_tvar_2_mean = np.zeros(T)\n",
    "\n",
    "X_tvar_2_replications = np.zeros((n_replications, T))\n",
    "\n",
    "X_dict = {}\n",
    "\n",
    "for replication in range(n_replications):\n",
    "    sigma_star = lambda u: 0.01\n",
    "    t = 1\n",
    "    epsilon = np.random.normal(size=(T))\n",
    "    X = np.zeros((T,d))\n",
    "    while t <= T-1 :\n",
    "        X_tvar_2[t] = df_sp500['SP500'].values[t] + sigma_star(t/T) * epsilon[t]\n",
    "        X[t] = [X_tvar_2[t-1]]\n",
    "        t += 1\n",
    "        \n",
    "    X_dict[str(replication)] = X\n",
    "    X_tvar_2_replications[replication] = X_tvar_2"
   ],
   "outputs": [],
   "execution_count": 17
  },
  {
   "cell_type": "code",
   "id": "93354119",
   "metadata": {
    "ExecuteTime": {
     "end_time": "2024-10-17T20:08:54.404625Z",
     "start_time": "2024-10-17T20:08:54.167999Z"
    }
   },
   "source": [
    "plt.rcParams[\"figure.figsize\"] = (10,3)\n",
    "\n",
    "u_var = np.linspace(0., 1., T)\n",
    "\n",
    "for replication in range(n_replications):\n",
    "    plt.plot(X_tvar_2_replications[replication], lw=1)\n",
    "    # plt.plot(X_tvar_2_replications_u_var[replication], lw=2)\n",
    "    # plt.plot(X_tvar_2_mean)\n",
    "    # plt.xticks(np.arange(0, T+1, 200, dtype=int))\n",
    "    plt.xlim(0, T)\n",
    "    #plt.title(r'$Y_{t,T} = m^\\star(\\frac{t}{T}, X_{t,T}) + \\varepsilon_{t,T}$')\n",
    "    #plt.legend()\n",
    "    plt.tight_layout()\n",
    "    plt.grid(True)\n",
    "    #plt.savefig(path_fig+\"mean_funciton\", dpi=150)\n",
    "plt.show()"
   ],
   "outputs": [
    {
     "data": {
      "text/plain": [
       "<Figure size 1000x300 with 1 Axes>"
      ],
      "image/png": "[encoded data removed]"
     },
     "metadata": {},
     "output_type": "display_data"
    }
   ],
   "execution_count": 18
  },
  {
   "metadata": {},
   "cell_type": "code",
   "outputs": [],
   "execution_count": null,
   "source": "",
   "id": "99ca1a0624451175"
  },
  {
   "cell_type": "code",
   "id": "9ed13caa",
   "metadata": {
    "ExecuteTime": {
     "end_time": "2024-10-17T20:08:54.422369Z",
     "start_time": "2024-10-17T20:08:54.420080Z"
    }
   },
   "source": [
    "times_t = [4000, 4250, 4500, 4750, 5000, 5250, 5500, 5750] \n",
    "times_T = [T]\n",
    "times_sigma = [10**-1, 10**-2, 10**-3, 10**-4]\n",
    "n_replications = [10, 20, 30]\n",
    "d = 1\n"
   ],
   "outputs": [],
   "execution_count": 19
  },
  {
   "cell_type": "code",
   "id": "0f5aacd4",
   "metadata": {
    "ExecuteTime": {
     "end_time": "2024-10-17T20:08:54.466330Z",
     "start_time": "2024-10-17T20:08:54.463185Z"
    }
   },
   "source": [
    "X_tvar_2 = {}\n",
    "X_tvar_2_replications = {}\n",
    "X_dict = {}\n",
    "\n",
    "for sigma_ in times_sigma:\n",
    "    X_dict[f\"sigma:{sigma_}\"] = {}\n",
    "    \n",
    "    for rep in n_replications:\n",
    "        X_tvar_2_replications[f\"sigma:{sigma_}_rep:{rep}\"] = np.zeros((rep, T))\n",
    "        X_dict[f\"sigma:{sigma_}_rep:{rep}\"] = {}\n"
   ],
   "outputs": [],
   "execution_count": 20
  },
  {
   "cell_type": "code",
   "id": "ecd0dc27",
   "metadata": {
    "ExecuteTime": {
     "end_time": "2024-10-17T20:08:58.742569Z",
     "start_time": "2024-10-17T20:08:54.507341Z"
    }
   },
   "source": [
    "import torch\n",
    "import scipy as scp\n",
    "import matplotlib\n",
    "from matplotlib import cm\n",
    "from scipy.stats import wasserstein_distance"
   ],
   "outputs": [],
   "execution_count": 21
  },
  {
   "cell_type": "code",
   "id": "e2c17765",
   "metadata": {
    "ExecuteTime": {
     "end_time": "2024-10-17T20:09:05.244570Z",
     "start_time": "2024-10-17T20:08:58.758512Z"
    }
   },
   "source": [
    "for T in times_T:\n",
    "    u_var = np.linspace(0., 1., T)\n",
    "\n",
    "    for sigma_ in times_sigma:\n",
    "        for rep in n_replications:\n",
    "            for replication in range(rep):\n",
    "                sigma_star = lambda u: sigma_\n",
    "                t = 1\n",
    "                epsilon = np.random.normal(0, sigma_, size=(T))\n",
    "                X = np.zeros((T, d))\n",
    "                X_tvar_2_T = np.zeros(T)\n",
    "                \n",
    "                while t <= T-1:\n",
    "                    X_tvar_2_T[t] = df_sp500['SP500'].values[t] + sigma_star(t/T) * epsilon[t]\n",
    "                    X[t] = [X_tvar_2_T[t-1]]\n",
    "                    t += 1\n",
    "\n",
    "                X_tvar_2_replications[f\"sigma:{sigma_}_rep:{rep}\"][replication] = X_tvar_2_T\n",
    "                X_dict[f\"sigma:{sigma_}_rep:{rep}\"][str(replication)] = X\n"
   ],
   "outputs": [],
   "execution_count": 22
  },
  {
   "cell_type": "code",
   "id": "94f3dfd6",
   "metadata": {
    "ExecuteTime": {
     "end_time": "2024-10-17T20:09:05.266363Z",
     "start_time": "2024-10-17T20:09:05.264Z"
    }
   },
   "source": [
    "X_tvar_2 = {}\n",
    "\n",
    "for t in times_t:\n",
    "    for sigma_ in times_sigma:\n",
    "        for rep in n_replications:\n",
    "            X_tvar_2[f\"t:{t}_sigma:{sigma_}_rep:{rep}\"] = {}\n"
   ],
   "outputs": [],
   "execution_count": 23
  },
  {
   "cell_type": "code",
   "id": "9666dd14",
   "metadata": {
    "ExecuteTime": {
     "end_time": "2024-10-17T20:09:05.312465Z",
     "start_time": "2024-10-17T20:09:05.305397Z"
    }
   },
   "source": [
    "\n",
    "for t in times_t:\n",
    "    for sigma_ in times_sigma:\n",
    "        for rep in n_replications:\n",
    "            X_tvar_2[f\"t:{t}_sigma:{sigma_}_rep:{rep}\"] = []\n",
    "\n",
    "\n",
    "for t in times_t:\n",
    "    for rep in n_replications:\n",
    "        for replication in range(rep):\n",
    "            for sigma_ in times_sigma:\n",
    "                z = X_tvar_2_replications[f\"sigma:{sigma_}_rep:{rep}\"][replication][t-1]\n",
    "                X_tvar_2[f\"t:{t}_sigma:{sigma_}_rep:{rep}\"].append(z)\n",
    "\n",
    "\n",
    "for t in times_t:\n",
    "    for sigma_ in times_sigma:\n",
    "        for rep in n_replications:\n",
    "            X_tvar_2[f\"t:{t}_sigma:{sigma_}_rep:{rep}\"] = np.array(X_tvar_2[f\"t:{t}_sigma:{sigma_}_rep:{rep}\"])\n"
   ],
   "outputs": [],
   "execution_count": 24
  },
  {
   "cell_type": "code",
   "id": "93f74b1d",
   "metadata": {
    "ExecuteTime": {
     "end_time": "2024-10-17T20:09:05.363506Z",
     "start_time": "2024-10-17T20:09:05.355060Z"
    }
   },
   "source": [
    "plt.rcParams[\"figure.figsize\"] = (5, 4)\n",
    "\n",
    "norm_X_tvar_2 = {}\n",
    "for t in times_t:\n",
    "    for sigma_ in times_sigma:\n",
    "        for rep in n_replications:\n",
    "            norm_X_tvar_2[f\"t:{t}_sigma:{sigma_}_rep:{rep}\"] = scp.stats.norm.cdf(X_tvar_2[f\"t:{t}_sigma:{sigma_}_rep:{rep}\"])\n"
   ],
   "outputs": [],
   "execution_count": 25
  },
  {
   "cell_type": "markdown",
   "id": "24a4e79f",
   "metadata": {},
   "source": [
    "# space_kernel = \"gaussian\"; time_kernel = \"uniform\""
   ]
  },
  {
   "cell_type": "code",
   "id": "2697d7f3",
   "metadata": {
    "ExecuteTime": {
     "end_time": "2024-10-17T20:09:05.403862Z",
     "start_time": "2024-10-17T20:09:05.400604Z"
    }
   },
   "source": [
    "space_kernel = \"gaussian\"  # \"silverman\"\n",
    "time_kernel = \"uniform\"  # \"tricube\"\n",
    "xi = 0.4 / (2 * (d + 1))\n",
    "lambda_ = 1 / 12\n",
    "\n",
    "T = df_sp500.shape[0]\n",
    "gaussian_kernel = {}\n",
    "gaussian_weights = {}\n",
    "\n",
    "for t in times_t:\n",
    "    for sigma_ in times_sigma:\n",
    "        for rep in n_replications:\n",
    "            gaussian_weights[f\"t:{t}_sigma:{sigma_}_rep:{rep}\"] = {}\n",
    "\n",
    "for sigma_ in times_sigma:\n",
    "    bandwidth = lambda_ * (T ** (-xi))\n",
    "    gaussian_kernel[f\"sigma:{sigma_}\"] = Kernel(T=T, bandwidth=bandwidth, space_kernel=space_kernel, time_kernel=time_kernel)\n"
   ],
   "outputs": [],
   "execution_count": 26
  },
  {
   "cell_type": "code",
   "id": "0186ee9d",
   "metadata": {
    "ExecuteTime": {
     "end_time": "2024-10-17T20:09:05.450830Z",
     "start_time": "2024-10-17T20:09:05.447401Z"
    }
   },
   "source": [
    "gaussian_kernel"
   ],
   "outputs": [
    {
     "data": {
      "text/plain": [
       "{'sigma:0.1': Kernel(T=8372, bandwidth=0.03377037101411927, time_kernel='uniform'),\n",
       " 'sigma:0.01': Kernel(T=8372, bandwidth=0.03377037101411927, time_kernel='uniform'),\n",
       " 'sigma:0.001': Kernel(T=8372, bandwidth=0.03377037101411927, time_kernel='uniform'),\n",
       " 'sigma:0.0001': Kernel(T=8372, bandwidth=0.03377037101411927, time_kernel='uniform')}"
      ]
     },
     "execution_count": 27,
     "metadata": {},
     "output_type": "execute_result"
    }
   ],
   "execution_count": 27
  },
  {
   "cell_type": "code",
   "id": "ed23a838",
   "metadata": {
    "ExecuteTime": {
     "end_time": "2024-10-17T20:14:02.883554Z",
     "start_time": "2024-10-17T20:09:05.497880Z"
    }
   },
   "source": [
    "for rep in n_replications:\n",
    "    for replication in range(rep):\n",
    "        for t in times_t:\n",
    "            for sigma_ in times_sigma:\n",
    "                gaussian_weights[f\"t:{t}_sigma:{sigma_}_rep:{rep}\"][str(replication)] = \\\n",
    "                gaussian_kernel[f\"sigma:{sigma_}\"].fit(X_dict[f\"sigma:{sigma_}_rep:{rep}\"][str(replication)], t)\n"
   ],
   "outputs": [],
   "execution_count": 28
  },
  {
   "cell_type": "code",
   "id": "18e16369",
   "metadata": {
    "ExecuteTime": {
     "end_time": "2024-10-17T20:14:02.909215Z",
     "start_time": "2024-10-17T20:14:02.906316Z"
    }
   },
   "source": [
    "n_replications"
   ],
   "outputs": [
    {
     "data": {
      "text/plain": [
       "[10, 20, 30]"
      ]
     },
     "execution_count": 29,
     "metadata": {},
     "output_type": "execute_result"
    }
   ],
   "execution_count": 29
  },
  {
   "cell_type": "code",
   "id": "cc429a57",
   "metadata": {
    "ExecuteTime": {
     "end_time": "2024-10-17T20:14:03.011154Z",
     "start_time": "2024-10-17T20:14:03.004444Z"
    }
   },
   "source": [
    "gaussian_weights_tensor = {}  # Initialize the tensor dictionary\n",
    "\n",
    "for i_t in range(len(times_t)):\n",
    "    for i_sigma in range(len(times_sigma)):\n",
    "        for rep in n_replications:\n",
    "            gaussian_weights_tensor[f\"t:{times_t[i_t]}_sigma:{times_sigma[i_sigma]}_rep:{rep}\"] = {}\n",
    "\n",
    "for i_t in range(len(times_t)):\n",
    "    for i_sigma in range(len(times_sigma)):  \n",
    "        for rep in n_replications:\n",
    "            for replication in range(rep):\n",
    "                # Assign the corresponding gaussian weights for each replication and rep\n",
    "                gaussian_weights_tensor[f\"t:{times_t[i_t]}_sigma:{times_sigma[i_sigma]}_rep:{rep}\"][str(replication)] = \\\n",
    "                gaussian_weights[f\"t:{times_t[i_t]}_sigma:{times_sigma[i_sigma]}_rep:{rep}\"][str(replication)]\n"
   ],
   "outputs": [],
   "execution_count": 30
  },
  {
   "cell_type": "code",
   "id": "1abac975",
   "metadata": {
    "ExecuteTime": {
     "end_time": "2024-10-17T20:14:03.061579Z",
     "start_time": "2024-10-17T20:14:03.053672Z"
    }
   },
   "source": [
    "empirical_cds = {}\n",
    "\n",
    "for t in times_t:\n",
    "    for sigma_ in times_sigma:\n",
    "        for rep in n_replications:\n",
    "            empirical_cds[f\"t:{t}_sigma:{sigma_}_rep:{rep}\"] = scp.stats.norm.cdf(X_tvar_2[f\"t:{t}_sigma:{sigma_}_rep:{rep}\"])\n"
   ],
   "outputs": [],
   "execution_count": 31
  },
  {
   "cell_type": "code",
   "id": "8817cff6",
   "metadata": {
    "ExecuteTime": {
     "end_time": "2024-10-17T20:14:03.101464Z",
     "start_time": "2024-10-17T20:14:03.098559Z"
    }
   },
   "source": [
    "def eval_univariate(x, weights):\n",
    "        \"\"\"Inner function for ECDF of one variable.\"\"\"\n",
    "        sorter = x.argsort()\n",
    "        x = x[sorter]\n",
    "        weights = weights[sorter]\n",
    "        y = weights.cumsum()\n",
    "\n",
    "        # if self.stat in [\"percent\", \"proportion\"]:\n",
    "        y = y / y.max()\n",
    "        # if self.stat == \"percent\":\n",
    "            # y = y * 100\n",
    "\n",
    "        # x = np.r_[-np.inf, x]\n",
    "        # y = np.r_[0, y]\n",
    "        x = np.r_[x]\n",
    "        y = np.r_[y]\n",
    "\n",
    "        # if self.complementary:\n",
    "            # y = y.max() - y\n",
    "\n",
    "        return y, x"
   ],
   "outputs": [],
   "execution_count": 32
  },
  {
   "cell_type": "code",
   "id": "5ad06467-7566-4f84-9a04-29f4b350e99c",
   "metadata": {
    "ExecuteTime": {
     "end_time": "2024-10-17T20:14:08.671977Z",
     "start_time": "2024-10-17T20:14:03.143460Z"
    }
   },
   "source": [
    "x_rep = {} \n",
    "y_rep = {} \n",
    "wasserstein_distances = {}\n",
    "\n",
    "for t in times_t:\n",
    "    for sigma_ in times_sigma:\n",
    "        for rep in n_replications:\n",
    "            x_rep[f\"t:{t}_sigma:{sigma_}_rep:{rep}\"] = np.zeros((rep, T))\n",
    "            y_rep[f\"t:{t}_sigma:{sigma_}_rep:{rep}\"] = np.zeros((rep, T))\n",
    "            wasserstein_distances[f\"t:{t}_sigma:{sigma_}_rep:{rep}\"] = {}\n",
    "\n",
    "\n",
    "for rep in n_replications:\n",
    "    for replication in range(rep): \n",
    "        for t in times_t:\n",
    "            for sigma_ in times_sigma:\n",
    "                y, x = eval_univariate(\n",
    "                    X_tvar_2_replications[f\"sigma:{sigma_}_rep:{rep}\"][replication], \n",
    "                    gaussian_weights_tensor[f\"t:{t}_sigma:{sigma_}_rep:{rep}\"][str(replication)]\n",
    "                )\n",
    "                \n",
    "                x_rep[f\"t:{t}_sigma:{sigma_}_rep:{rep}\"][replication] = x\n",
    "                y_rep[f\"t:{t}_sigma:{sigma_}_rep:{rep}\"][replication] = y\n",
    "                \n",
    "                distance = wasserstein_distance(y, scp.stats.norm.cdf(X_tvar_2_replications[f\"sigma:{sigma_}_rep:{rep}\"][replication]))\n",
    "                wasserstein_distances[f\"t:{t}_sigma:{sigma_}_rep:{rep}\"][str(replication)] = distance\n"
   ],
   "outputs": [],
   "execution_count": 33
  },
  {
   "cell_type": "code",
   "id": "40ef3806",
   "metadata": {
    "ExecuteTime": {
     "end_time": "2024-10-17T20:14:08.703003Z",
     "start_time": "2024-10-17T20:14:08.698036Z"
    }
   },
   "source": [
    "wass_distances_all_replications = {}\n",
    "\n",
    "\n",
    "for t in times_t:\n",
    "    for sigma_ in times_sigma:\n",
    "        for rep in n_replications:\n",
    "            wass_distances_all_replications[f\"t:{t}_sigma:{sigma_}_rep:{rep}\"] = []\n",
    "\n",
    "\n",
    "for t in times_t:\n",
    "    for sigma_ in times_sigma:\n",
    "        for rep in n_replications:\n",
    "            for replication in range(rep):\n",
    "                \n",
    "                wass_distances_all_replications[f\"t:{t}_sigma:{sigma_}_rep:{rep}\"].append(\n",
    "                    wasserstein_distances[f\"t:{t}_sigma:{sigma_}_rep:{rep}\"][str(replication)]\n",
    "                )\n"
   ],
   "outputs": [],
   "execution_count": 34
  },
  {
   "cell_type": "code",
   "id": "1434103e",
   "metadata": {
    "ExecuteTime": {
     "end_time": "2024-10-17T20:14:08.785539Z",
     "start_time": "2024-10-17T20:14:08.739990Z"
    }
   },
   "source": [
    "plt.rcParams[\"figure.figsize\"] = (10, 3)\n",
    "wass_distances_empirical_meanNW = {}\n",
    "\n",
    "\n",
    "for t in times_t:\n",
    "    for sigma_ in times_sigma:\n",
    "        for rep in n_replications:\n",
    "            \n",
    "            wass_distances_empirical_meanNW[f\"t:{t}_sigma:{sigma_}_rep:{rep}\"] = wasserstein_distance(\n",
    "                empirical_cds[f\"t:{t}_sigma:{sigma_}_rep:{rep}\"], y_rep[f\"t:{t}_sigma:{sigma_}_rep:{rep}\"].mean(axis=0)\n",
    "            )\n"
   ],
   "outputs": [],
   "execution_count": 35
  },
  {
   "cell_type": "code",
   "id": "c4421162",
   "metadata": {
    "ExecuteTime": {
     "end_time": "2024-10-17T20:14:08.814001Z",
     "start_time": "2024-10-17T20:14:08.810371Z"
    }
   },
   "source": [
    "wass_distances_empirical_meanNW"
   ],
   "outputs": [
    {
     "data": {
      "text/plain": [
       "{'t:4000_sigma:0.1_rep:10': 0.21261891021733434,\n",
       " 't:4000_sigma:0.1_rep:20': 0.21317299874641632,\n",
       " 't:4000_sigma:0.1_rep:30': 0.21293607070549883,\n",
       " 't:4000_sigma:0.01_rep:10': 0.18500609024843465,\n",
       " 't:4000_sigma:0.01_rep:20': 0.184989771473366,\n",
       " 't:4000_sigma:0.01_rep:30': 0.18494103546963855,\n",
       " 't:4000_sigma:0.001_rep:10': 0.18499541834510103,\n",
       " 't:4000_sigma:0.001_rep:20': 0.18499519247961765,\n",
       " 't:4000_sigma:0.001_rep:30': 0.1849949041171577,\n",
       " 't:4000_sigma:0.0001_rep:10': 0.1849987304042552,\n",
       " 't:4000_sigma:0.0001_rep:20': 0.1849988746856568,\n",
       " 't:4000_sigma:0.0001_rep:30': 0.184998864282205,\n",
       " 't:4250_sigma:0.1_rep:10': 0.2200790586765493,\n",
       " 't:4250_sigma:0.1_rep:20': 0.22187952501915198,\n",
       " 't:4250_sigma:0.1_rep:30': 0.2219629143801502,\n",
       " 't:4250_sigma:0.01_rep:10': 0.19592945188177582,\n",
       " 't:4250_sigma:0.01_rep:20': 0.1958610148400496,\n",
       " 't:4250_sigma:0.01_rep:30': 0.1959232113722649,\n",
       " 't:4250_sigma:0.001_rep:10': 0.19595638049923994,\n",
       " 't:4250_sigma:0.001_rep:20': 0.19595666347661428,\n",
       " 't:4250_sigma:0.001_rep:30': 0.1959574389698876,\n",
       " 't:4250_sigma:0.0001_rep:10': 0.1959579872222288,\n",
       " 't:4250_sigma:0.0001_rep:20': 0.19595850894951172,\n",
       " 't:4250_sigma:0.0001_rep:30': 0.19595829572808393,\n",
       " 't:4500_sigma:0.1_rep:10': 0.2415737581220515,\n",
       " 't:4500_sigma:0.1_rep:20': 0.2415871534924773,\n",
       " 't:4500_sigma:0.1_rep:30': 0.24261693005322704,\n",
       " 't:4500_sigma:0.01_rep:10': 0.23317859154119389,\n",
       " 't:4500_sigma:0.01_rep:20': 0.23316482042308814,\n",
       " 't:4500_sigma:0.01_rep:30': 0.23320109573606732,\n",
       " 't:4500_sigma:0.001_rep:10': 0.23319013478269002,\n",
       " 't:4500_sigma:0.001_rep:20': 0.2331903493833879,\n",
       " 't:4500_sigma:0.001_rep:30': 0.23319079657614156,\n",
       " 't:4500_sigma:0.0001_rep:10': 0.2331907585937424,\n",
       " 't:4500_sigma:0.0001_rep:20': 0.2331906986308533,\n",
       " 't:4500_sigma:0.0001_rep:30': 0.23319072916971595,\n",
       " 't:4750_sigma:0.1_rep:10': 0.264480324970061,\n",
       " 't:4750_sigma:0.1_rep:20': 0.2645671920535236,\n",
       " 't:4750_sigma:0.1_rep:30': 0.2632991163748599,\n",
       " 't:4750_sigma:0.01_rep:10': 0.2762525596457482,\n",
       " 't:4750_sigma:0.01_rep:20': 0.2762164422511356,\n",
       " 't:4750_sigma:0.01_rep:30': 0.2762282355645823,\n",
       " 't:4750_sigma:0.001_rep:10': 0.2762720332825941,\n",
       " 't:4750_sigma:0.001_rep:20': 0.2762719474361848,\n",
       " 't:4750_sigma:0.001_rep:30': 0.27627130915875825,\n",
       " 't:4750_sigma:0.0001_rep:10': 0.27627571310857135,\n",
       " 't:4750_sigma:0.0001_rep:20': 0.2762758674094921,\n",
       " 't:4750_sigma:0.0001_rep:30': 0.27627577706264794,\n",
       " 't:5000_sigma:0.1_rep:10': 0.26760054342277284,\n",
       " 't:5000_sigma:0.1_rep:20': 0.26883539005103607,\n",
       " 't:5000_sigma:0.1_rep:30': 0.2690048938478444,\n",
       " 't:5000_sigma:0.01_rep:10': 0.28888274151232574,\n",
       " 't:5000_sigma:0.01_rep:20': 0.2889776541575252,\n",
       " 't:5000_sigma:0.01_rep:30': 0.2889129692390531,\n",
       " 't:5000_sigma:0.001_rep:10': 0.2889424496726083,\n",
       " 't:5000_sigma:0.001_rep:20': 0.2889415710636161,\n",
       " 't:5000_sigma:0.001_rep:30': 0.28894042549342247,\n",
       " 't:5000_sigma:0.0001_rep:10': 0.2889440173504634,\n",
       " 't:5000_sigma:0.0001_rep:20': 0.2889440098692725,\n",
       " 't:5000_sigma:0.0001_rep:30': 0.288944006409211,\n",
       " 't:5250_sigma:0.1_rep:10': 0.2611620635062634,\n",
       " 't:5250_sigma:0.1_rep:20': 0.2614764255469979,\n",
       " 't:5250_sigma:0.1_rep:30': 0.26153333270473034,\n",
       " 't:5250_sigma:0.01_rep:10': 0.2814585313333164,\n",
       " 't:5250_sigma:0.01_rep:20': 0.2815812803381875,\n",
       " 't:5250_sigma:0.01_rep:30': 0.2815479550375858,\n",
       " 't:5250_sigma:0.001_rep:10': 0.28160051670571196,\n",
       " 't:5250_sigma:0.001_rep:20': 0.28160026271790106,\n",
       " 't:5250_sigma:0.001_rep:30': 0.2816002584832375,\n",
       " 't:5250_sigma:0.0001_rep:10': 0.2816016329925171,\n",
       " 't:5250_sigma:0.0001_rep:20': 0.2816015647262752,\n",
       " 't:5250_sigma:0.0001_rep:30': 0.28160153730807935,\n",
       " 't:5500_sigma:0.1_rep:10': 0.2309173663135799,\n",
       " 't:5500_sigma:0.1_rep:20': 0.23087061964394684,\n",
       " 't:5500_sigma:0.1_rep:30': 0.22937946951161073,\n",
       " 't:5500_sigma:0.01_rep:10': 0.23370793416044527,\n",
       " 't:5500_sigma:0.01_rep:20': 0.23381399956154497,\n",
       " 't:5500_sigma:0.01_rep:30': 0.2337486006806715,\n",
       " 't:5500_sigma:0.001_rep:10': 0.23386268373182412,\n",
       " 't:5500_sigma:0.001_rep:20': 0.23386184624039688,\n",
       " 't:5500_sigma:0.001_rep:30': 0.23386221897732318,\n",
       " 't:5500_sigma:0.0001_rep:10': 0.2338605638229265,\n",
       " 't:5500_sigma:0.0001_rep:20': 0.23386063802367799,\n",
       " 't:5500_sigma:0.0001_rep:30': 0.23386040786542947,\n",
       " 't:5750_sigma:0.1_rep:10': 0.19933704759127358,\n",
       " 't:5750_sigma:0.1_rep:20': 0.19975086459908764,\n",
       " 't:5750_sigma:0.1_rep:30': 0.19943314433767878,\n",
       " 't:5750_sigma:0.01_rep:10': 0.1751794022358765,\n",
       " 't:5750_sigma:0.01_rep:20': 0.17522103939693098,\n",
       " 't:5750_sigma:0.01_rep:30': 0.1751801480615909,\n",
       " 't:5750_sigma:0.001_rep:10': 0.1752192544797094,\n",
       " 't:5750_sigma:0.001_rep:20': 0.17521811866017295,\n",
       " 't:5750_sigma:0.001_rep:30': 0.17521914868238767,\n",
       " 't:5750_sigma:0.0001_rep:10': 0.17521888825733598,\n",
       " 't:5750_sigma:0.0001_rep:20': 0.17521906575458326,\n",
       " 't:5750_sigma:0.0001_rep:30': 0.17521879237772986}"
      ]
     },
     "execution_count": 36,
     "metadata": {},
     "output_type": "execute_result"
    }
   ],
   "execution_count": 36
  },
  {
   "cell_type": "code",
   "id": "0bdc06c5",
   "metadata": {
    "ExecuteTime": {
     "end_time": "2024-10-17T20:14:08.861483Z",
     "start_time": "2024-10-17T20:14:08.858708Z"
    }
   },
   "source": [
    "plt.rcParams[\"figure.figsize\"] = (10, 3)\n",
    "wass_times_t = {}\n",
    "\n",
    "\n",
    "for t in times_t:\n",
    "    for rep in n_replications:\n",
    "        wass_times_t[f\"t:{t}_rep:{rep}\"] = []\n",
    "\n",
    "\n",
    "for t in times_t:\n",
    "    for sigma_ in times_sigma:\n",
    "        for rep in n_replications:\n",
    "            \n",
    "            wass_times_t[f\"t:{t}_rep:{rep}\"].append(wass_distances_empirical_meanNW[f\"t:{t}_sigma:{sigma_}_rep:{rep}\"])\n"
   ],
   "outputs": [],
   "execution_count": 37
  },
  {
   "cell_type": "code",
   "id": "a362f69e-b1cb-410e-9da8-a975b4e319b3",
   "metadata": {
    "ExecuteTime": {
     "end_time": "2024-10-17T20:14:10.254938Z",
     "start_time": "2024-10-17T20:14:08.905501Z"
    }
   },
   "source": [
    "plt.rcParams[\"figure.figsize\"] = (5, 4)\n",
    "colors = plt.cm.Set1(np.linspace(0, .5, 8))\n",
    "markers = ['o', '>', 'D', 'X', \"p\", 's', 'P', '*']\n",
    "times_sigma_cat = [r'$10^{-1}$', r'$10^{-2}$', r'$10^{-3}$', r'$10^{-4}$', r'$10^{-5}$']\n",
    "\n",
    "\n",
    "for rep in n_replications:\n",
    "    plt.figure()  \n",
    "    for i, t in zip(range(len(times_t)), times_t):\n",
    "        plt.plot(times_sigma_cat, wass_times_t[f\"t:{t}_rep:{rep}\"], label=f\"t:{t}\", color=colors[i], marker=markers[i], markersize=6, lw=2)\n",
    "    \n",
    "    plt.ylim(0.17, 0.4)\n",
    "    plt.xlabel(r'$\\sigma$')\n",
    "    plt.ylabel(\"Wasserstein distance\")\n",
    "    plt.title(f\"Wasserstein Distance for n_replications={rep}\")\n",
    "    plt.legend()\n",
    "    plt.grid(True)\n",
    "    plt.tight_layout()\n",
    "    \n",
    "    \n",
    "    # plt.savefig(f\"wass_distance_{rep}.png\", dpi=150)\n",
    "    \n",
    "    plt.show()  \n"
   ],
   "outputs": [
    {
     "ename": "ValueError",
     "evalue": "x and y must have same first dimension, but have shapes (5,) and (4,)",
     "output_type": "error",
     "traceback": [
      "\u001B[0;31m---------------------------------------------------------------------------\u001B[0m",
      "\u001B[0;31mValueError\u001B[0m                                Traceback (most recent call last)",
      "Cell \u001B[0;32mIn[38], line 10\u001B[0m\n\u001B[1;32m      8\u001B[0m plt\u001B[38;5;241m.\u001B[39mfigure()  \n\u001B[1;32m      9\u001B[0m \u001B[38;5;28;01mfor\u001B[39;00m i, t \u001B[38;5;129;01min\u001B[39;00m \u001B[38;5;28mzip\u001B[39m(\u001B[38;5;28mrange\u001B[39m(\u001B[38;5;28mlen\u001B[39m(times_t)), times_t):\n\u001B[0;32m---> 10\u001B[0m     \u001B[43mplt\u001B[49m\u001B[38;5;241;43m.\u001B[39;49m\u001B[43mplot\u001B[49m\u001B[43m(\u001B[49m\u001B[43mtimes_sigma_cat\u001B[49m\u001B[43m,\u001B[49m\u001B[43m \u001B[49m\u001B[43mwass_times_t\u001B[49m\u001B[43m[\u001B[49m\u001B[38;5;124;43mf\u001B[39;49m\u001B[38;5;124;43m\"\u001B[39;49m\u001B[38;5;124;43mt:\u001B[39;49m\u001B[38;5;132;43;01m{\u001B[39;49;00m\u001B[43mt\u001B[49m\u001B[38;5;132;43;01m}\u001B[39;49;00m\u001B[38;5;124;43m_rep:\u001B[39;49m\u001B[38;5;132;43;01m{\u001B[39;49;00m\u001B[43mrep\u001B[49m\u001B[38;5;132;43;01m}\u001B[39;49;00m\u001B[38;5;124;43m\"\u001B[39;49m\u001B[43m]\u001B[49m\u001B[43m,\u001B[49m\u001B[43m \u001B[49m\u001B[43mlabel\u001B[49m\u001B[38;5;241;43m=\u001B[39;49m\u001B[38;5;124;43mf\u001B[39;49m\u001B[38;5;124;43m\"\u001B[39;49m\u001B[38;5;124;43mt:\u001B[39;49m\u001B[38;5;132;43;01m{\u001B[39;49;00m\u001B[43mt\u001B[49m\u001B[38;5;132;43;01m}\u001B[39;49;00m\u001B[38;5;124;43m\"\u001B[39;49m\u001B[43m,\u001B[49m\u001B[43m \u001B[49m\u001B[43mcolor\u001B[49m\u001B[38;5;241;43m=\u001B[39;49m\u001B[43mcolors\u001B[49m\u001B[43m[\u001B[49m\u001B[43mi\u001B[49m\u001B[43m]\u001B[49m\u001B[43m,\u001B[49m\u001B[43m \u001B[49m\u001B[43mmarker\u001B[49m\u001B[38;5;241;43m=\u001B[39;49m\u001B[43mmarkers\u001B[49m\u001B[43m[\u001B[49m\u001B[43mi\u001B[49m\u001B[43m]\u001B[49m\u001B[43m,\u001B[49m\u001B[43m \u001B[49m\u001B[43mmarkersize\u001B[49m\u001B[38;5;241;43m=\u001B[39;49m\u001B[38;5;241;43m6\u001B[39;49m\u001B[43m,\u001B[49m\u001B[43m \u001B[49m\u001B[43mlw\u001B[49m\u001B[38;5;241;43m=\u001B[39;49m\u001B[38;5;241;43m2\u001B[39;49m\u001B[43m)\u001B[49m\n\u001B[1;32m     12\u001B[0m plt\u001B[38;5;241m.\u001B[39mylim(\u001B[38;5;241m0.17\u001B[39m, \u001B[38;5;241m0.4\u001B[39m)\n\u001B[1;32m     13\u001B[0m plt\u001B[38;5;241m.\u001B[39mxlabel(\u001B[38;5;124mr\u001B[39m\u001B[38;5;124m'\u001B[39m\u001B[38;5;124m$\u001B[39m\u001B[38;5;124m\\\u001B[39m\u001B[38;5;124msigma$\u001B[39m\u001B[38;5;124m'\u001B[39m)\n",
      "File \u001B[0;32m~/anaconda3/envs/py311torchrapids/lib/python3.11/site-packages/matplotlib/pyplot.py:3794\u001B[0m, in \u001B[0;36mplot\u001B[0;34m(scalex, scaley, data, *args, **kwargs)\u001B[0m\n\u001B[1;32m   3786\u001B[0m \u001B[38;5;129m@_copy_docstring_and_deprecators\u001B[39m(Axes\u001B[38;5;241m.\u001B[39mplot)\n\u001B[1;32m   3787\u001B[0m \u001B[38;5;28;01mdef\u001B[39;00m \u001B[38;5;21mplot\u001B[39m(\n\u001B[1;32m   3788\u001B[0m     \u001B[38;5;241m*\u001B[39margs: \u001B[38;5;28mfloat\u001B[39m \u001B[38;5;241m|\u001B[39m ArrayLike \u001B[38;5;241m|\u001B[39m \u001B[38;5;28mstr\u001B[39m,\n\u001B[0;32m   (...)\u001B[0m\n\u001B[1;32m   3792\u001B[0m     \u001B[38;5;241m*\u001B[39m\u001B[38;5;241m*\u001B[39mkwargs,\n\u001B[1;32m   3793\u001B[0m ) \u001B[38;5;241m-\u001B[39m\u001B[38;5;241m>\u001B[39m \u001B[38;5;28mlist\u001B[39m[Line2D]:\n\u001B[0;32m-> 3794\u001B[0m     \u001B[38;5;28;01mreturn\u001B[39;00m \u001B[43mgca\u001B[49m\u001B[43m(\u001B[49m\u001B[43m)\u001B[49m\u001B[38;5;241;43m.\u001B[39;49m\u001B[43mplot\u001B[49m\u001B[43m(\u001B[49m\n\u001B[1;32m   3795\u001B[0m \u001B[43m        \u001B[49m\u001B[38;5;241;43m*\u001B[39;49m\u001B[43margs\u001B[49m\u001B[43m,\u001B[49m\n\u001B[1;32m   3796\u001B[0m \u001B[43m        \u001B[49m\u001B[43mscalex\u001B[49m\u001B[38;5;241;43m=\u001B[39;49m\u001B[43mscalex\u001B[49m\u001B[43m,\u001B[49m\n\u001B[1;32m   3797\u001B[0m \u001B[43m        \u001B[49m\u001B[43mscaley\u001B[49m\u001B[38;5;241;43m=\u001B[39;49m\u001B[43mscaley\u001B[49m\u001B[43m,\u001B[49m\n\u001B[1;32m   3798\u001B[0m \u001B[43m        \u001B[49m\u001B[38;5;241;43m*\u001B[39;49m\u001B[38;5;241;43m*\u001B[39;49m\u001B[43m(\u001B[49m\u001B[43m{\u001B[49m\u001B[38;5;124;43m\"\u001B[39;49m\u001B[38;5;124;43mdata\u001B[39;49m\u001B[38;5;124;43m\"\u001B[39;49m\u001B[43m:\u001B[49m\u001B[43m \u001B[49m\u001B[43mdata\u001B[49m\u001B[43m}\u001B[49m\u001B[43m \u001B[49m\u001B[38;5;28;43;01mif\u001B[39;49;00m\u001B[43m \u001B[49m\u001B[43mdata\u001B[49m\u001B[43m \u001B[49m\u001B[38;5;129;43;01mis\u001B[39;49;00m\u001B[43m \u001B[49m\u001B[38;5;129;43;01mnot\u001B[39;49;00m\u001B[43m \u001B[49m\u001B[38;5;28;43;01mNone\u001B[39;49;00m\u001B[43m \u001B[49m\u001B[38;5;28;43;01melse\u001B[39;49;00m\u001B[43m \u001B[49m\u001B[43m{\u001B[49m\u001B[43m}\u001B[49m\u001B[43m)\u001B[49m\u001B[43m,\u001B[49m\n\u001B[1;32m   3799\u001B[0m \u001B[43m        \u001B[49m\u001B[38;5;241;43m*\u001B[39;49m\u001B[38;5;241;43m*\u001B[39;49m\u001B[43mkwargs\u001B[49m\u001B[43m,\u001B[49m\n\u001B[1;32m   3800\u001B[0m \u001B[43m    \u001B[49m\u001B[43m)\u001B[49m\n",
      "File \u001B[0;32m~/anaconda3/envs/py311torchrapids/lib/python3.11/site-packages/matplotlib/axes/_axes.py:1779\u001B[0m, in \u001B[0;36mAxes.plot\u001B[0;34m(self, scalex, scaley, data, *args, **kwargs)\u001B[0m\n\u001B[1;32m   1536\u001B[0m \u001B[38;5;250m\u001B[39m\u001B[38;5;124;03m\"\"\"\u001B[39;00m\n\u001B[1;32m   1537\u001B[0m \u001B[38;5;124;03mPlot y versus x as lines and/or markers.\u001B[39;00m\n\u001B[1;32m   1538\u001B[0m \n\u001B[0;32m   (...)\u001B[0m\n\u001B[1;32m   1776\u001B[0m \u001B[38;5;124;03m(``'green'``) or hex strings (``'#008000'``).\u001B[39;00m\n\u001B[1;32m   1777\u001B[0m \u001B[38;5;124;03m\"\"\"\u001B[39;00m\n\u001B[1;32m   1778\u001B[0m kwargs \u001B[38;5;241m=\u001B[39m cbook\u001B[38;5;241m.\u001B[39mnormalize_kwargs(kwargs, mlines\u001B[38;5;241m.\u001B[39mLine2D)\n\u001B[0;32m-> 1779\u001B[0m lines \u001B[38;5;241m=\u001B[39m [\u001B[38;5;241m*\u001B[39m\u001B[38;5;28mself\u001B[39m\u001B[38;5;241m.\u001B[39m_get_lines(\u001B[38;5;28mself\u001B[39m, \u001B[38;5;241m*\u001B[39margs, data\u001B[38;5;241m=\u001B[39mdata, \u001B[38;5;241m*\u001B[39m\u001B[38;5;241m*\u001B[39mkwargs)]\n\u001B[1;32m   1780\u001B[0m \u001B[38;5;28;01mfor\u001B[39;00m line \u001B[38;5;129;01min\u001B[39;00m lines:\n\u001B[1;32m   1781\u001B[0m     \u001B[38;5;28mself\u001B[39m\u001B[38;5;241m.\u001B[39madd_line(line)\n",
      "File \u001B[0;32m~/anaconda3/envs/py311torchrapids/lib/python3.11/site-packages/matplotlib/axes/_base.py:296\u001B[0m, in \u001B[0;36m_process_plot_var_args.__call__\u001B[0;34m(self, axes, data, *args, **kwargs)\u001B[0m\n\u001B[1;32m    294\u001B[0m     this \u001B[38;5;241m+\u001B[39m\u001B[38;5;241m=\u001B[39m args[\u001B[38;5;241m0\u001B[39m],\n\u001B[1;32m    295\u001B[0m     args \u001B[38;5;241m=\u001B[39m args[\u001B[38;5;241m1\u001B[39m:]\n\u001B[0;32m--> 296\u001B[0m \u001B[38;5;28;01myield from\u001B[39;00m \u001B[38;5;28;43mself\u001B[39;49m\u001B[38;5;241;43m.\u001B[39;49m\u001B[43m_plot_args\u001B[49m\u001B[43m(\u001B[49m\n\u001B[1;32m    297\u001B[0m \u001B[43m    \u001B[49m\u001B[43maxes\u001B[49m\u001B[43m,\u001B[49m\u001B[43m \u001B[49m\u001B[43mthis\u001B[49m\u001B[43m,\u001B[49m\u001B[43m \u001B[49m\u001B[43mkwargs\u001B[49m\u001B[43m,\u001B[49m\u001B[43m \u001B[49m\u001B[43mambiguous_fmt_datakey\u001B[49m\u001B[38;5;241;43m=\u001B[39;49m\u001B[43mambiguous_fmt_datakey\u001B[49m\u001B[43m)\u001B[49m\n",
      "File \u001B[0;32m~/anaconda3/envs/py311torchrapids/lib/python3.11/site-packages/matplotlib/axes/_base.py:486\u001B[0m, in \u001B[0;36m_process_plot_var_args._plot_args\u001B[0;34m(self, axes, tup, kwargs, return_kwargs, ambiguous_fmt_datakey)\u001B[0m\n\u001B[1;32m    483\u001B[0m     axes\u001B[38;5;241m.\u001B[39myaxis\u001B[38;5;241m.\u001B[39mupdate_units(y)\n\u001B[1;32m    485\u001B[0m \u001B[38;5;28;01mif\u001B[39;00m x\u001B[38;5;241m.\u001B[39mshape[\u001B[38;5;241m0\u001B[39m] \u001B[38;5;241m!=\u001B[39m y\u001B[38;5;241m.\u001B[39mshape[\u001B[38;5;241m0\u001B[39m]:\n\u001B[0;32m--> 486\u001B[0m     \u001B[38;5;28;01mraise\u001B[39;00m \u001B[38;5;167;01mValueError\u001B[39;00m(\u001B[38;5;124mf\u001B[39m\u001B[38;5;124m\"\u001B[39m\u001B[38;5;124mx and y must have same first dimension, but \u001B[39m\u001B[38;5;124m\"\u001B[39m\n\u001B[1;32m    487\u001B[0m                      \u001B[38;5;124mf\u001B[39m\u001B[38;5;124m\"\u001B[39m\u001B[38;5;124mhave shapes \u001B[39m\u001B[38;5;132;01m{\u001B[39;00mx\u001B[38;5;241m.\u001B[39mshape\u001B[38;5;132;01m}\u001B[39;00m\u001B[38;5;124m and \u001B[39m\u001B[38;5;132;01m{\u001B[39;00my\u001B[38;5;241m.\u001B[39mshape\u001B[38;5;132;01m}\u001B[39;00m\u001B[38;5;124m\"\u001B[39m)\n\u001B[1;32m    488\u001B[0m \u001B[38;5;28;01mif\u001B[39;00m x\u001B[38;5;241m.\u001B[39mndim \u001B[38;5;241m>\u001B[39m \u001B[38;5;241m2\u001B[39m \u001B[38;5;129;01mor\u001B[39;00m y\u001B[38;5;241m.\u001B[39mndim \u001B[38;5;241m>\u001B[39m \u001B[38;5;241m2\u001B[39m:\n\u001B[1;32m    489\u001B[0m     \u001B[38;5;28;01mraise\u001B[39;00m \u001B[38;5;167;01mValueError\u001B[39;00m(\u001B[38;5;124mf\u001B[39m\u001B[38;5;124m\"\u001B[39m\u001B[38;5;124mx and y can be no greater than 2D, but have \u001B[39m\u001B[38;5;124m\"\u001B[39m\n\u001B[1;32m    490\u001B[0m                      \u001B[38;5;124mf\u001B[39m\u001B[38;5;124m\"\u001B[39m\u001B[38;5;124mshapes \u001B[39m\u001B[38;5;132;01m{\u001B[39;00mx\u001B[38;5;241m.\u001B[39mshape\u001B[38;5;132;01m}\u001B[39;00m\u001B[38;5;124m and \u001B[39m\u001B[38;5;132;01m{\u001B[39;00my\u001B[38;5;241m.\u001B[39mshape\u001B[38;5;132;01m}\u001B[39;00m\u001B[38;5;124m\"\u001B[39m)\n",
      "\u001B[0;31mValueError\u001B[0m: x and y must have same first dimension, but have shapes (5,) and (4,)"
     ]
    },
    {
     "data": {
      "text/plain": [
       "<Figure size 500x400 with 1 Axes>"
      ],
      "image/png": "[encoded data removed]"
     },
     "metadata": {},
     "output_type": "display_data"
    }
   ],
   "execution_count": 38
  },
  {
   "cell_type": "code",
   "id": "7802b8a9-a4d9-46fd-b41e-fdf81aba477a",
   "metadata": {
    "ExecuteTime": {
     "end_time": "2024-10-17T20:14:10.260336669Z",
     "start_time": "2024-10-17T20:07:33.144818Z"
    }
   },
   "source": [],
   "outputs": [],
   "execution_count": null
  },
  {
   "metadata": {
    "ExecuteTime": {
     "end_time": "2024-10-17T20:14:10.260561482Z",
     "start_time": "2024-10-17T20:07:33.449047Z"
    }
   },
   "cell_type": "code",
   "source": "",
   "id": "1176640e2f957c98",
   "outputs": [],
   "execution_count": null
  },
  {
   "metadata": {
    "ExecuteTime": {
     "end_time": "2024-10-17T20:07:33.779364Z",
     "start_time": "2024-10-17T20:07:33.777960Z"
    }
   },
   "cell_type": "code",
   "source": "",
   "id": "a4c43e65d16ae466",
   "outputs": [],
   "execution_count": null
  },
  {
   "metadata": {},
   "cell_type": "code",
   "outputs": [],
   "execution_count": null,
   "source": "",
   "id": "4b1f58809992781"
  }
 ],
 "metadata": {
  "kernelspec": {
   "display_name": "Python 3 (ipykernel)",
   "language": "python",
   "name": "python3"
  },
  "language_info": {
   "codemirror_mode": {
    "name": "ipython",
    "version": 3
   },
   "file_extension": ".py",
   "mimetype": "text/x-python",
   "name": "python",
   "nbconvert_exporter": "python",
   "pygments_lexer": "ipython3",
   "version": "3.9.18"
  }
 },
 "nbformat": 4,
 "nbformat_minor": 5
}
